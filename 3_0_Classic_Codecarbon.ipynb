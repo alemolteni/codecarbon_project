{
  "nbformat": 4,
  "nbformat_minor": 0,
  "metadata": {
    "colab": {
      "provenance": [],
      "gpuType": "T4",
      "authorship_tag": "ABX9TyOGnC1h6D5JIOcOI+tkWIJo",
      "include_colab_link": true
    },
    "kernelspec": {
      "name": "python3",
      "display_name": "Python 3"
    },
    "language_info": {
      "name": "python"
    },
    "accelerator": "GPU"
  },
  "cells": [
    {
      "cell_type": "markdown",
      "metadata": {
        "id": "view-in-github",
        "colab_type": "text"
      },
      "source": [
        "<a href=\"https://colab.research.google.com/github/alemolteni/codecarbon_project/blob/main/3_0_Classic_Codecarbon.ipynb\" target=\"_parent\"><img src=\"https://colab.research.google.com/assets/colab-badge.svg\" alt=\"Open In Colab\"/></a>"
      ]
    },
    {
      "cell_type": "code",
      "source": [
        "from google.colab import drive\n",
        "drive.mount('/gdrive')\n",
        "!cp \"/gdrive/My Drive/CodeCarbon/datasets/NEweather.csv\" /content\n",
        "!cp \"/gdrive/My Drive/CodeCarbon/datasets/agr_a_20k.csv\" /content"
      ],
      "metadata": {
        "colab": {
          "base_uri": "https://localhost:8080/"
        },
        "id": "T6Kt7sDWMd6A",
        "outputId": "eb6a4b25-af26-48d3-c5b1-c4f805aa7403"
      },
      "execution_count": 1,
      "outputs": [
        {
          "output_type": "stream",
          "name": "stdout",
          "text": [
            "Mounted at /gdrive\n"
          ]
        }
      ]
    },
    {
      "cell_type": "code",
      "source": [
        "!pip install codecarbon"
      ],
      "metadata": {
        "colab": {
          "base_uri": "https://localhost:8080/"
        },
        "id": "-HERSJsoMn40",
        "outputId": "d13c88ea-5bd4-4d65-fc56-434d44551dc4"
      },
      "execution_count": 2,
      "outputs": [
        {
          "output_type": "stream",
          "name": "stdout",
          "text": [
            "Collecting codecarbon\n",
            "  Downloading codecarbon-2.2.4-py3-none-any.whl (176 kB)\n",
            "\u001b[2K     \u001b[90m━━━━━━━━━━━━━━━━━━━━━━━━━━━━━━━━━━━━━━\u001b[0m \u001b[32m176.0/176.0 kB\u001b[0m \u001b[31m12.7 MB/s\u001b[0m eta \u001b[36m0:00:00\u001b[0m\n",
            "\u001b[?25hCollecting arrow (from codecarbon)\n",
            "  Downloading arrow-1.2.3-py3-none-any.whl (66 kB)\n",
            "\u001b[2K     \u001b[90m━━━━━━━━━━━━━━━━━━━━━━━━━━━━━━━━━━━━━━━━\u001b[0m \u001b[32m66.4/66.4 kB\u001b[0m \u001b[31m9.3 MB/s\u001b[0m eta \u001b[36m0:00:00\u001b[0m\n",
            "\u001b[?25hRequirement already satisfied: pandas in /usr/local/lib/python3.10/dist-packages (from codecarbon) (1.5.3)\n",
            "Collecting pynvml (from codecarbon)\n",
            "  Downloading pynvml-11.5.0-py3-none-any.whl (53 kB)\n",
            "\u001b[2K     \u001b[90m━━━━━━━━━━━━━━━━━━━━━━━━━━━━━━━━━━━━━━━━\u001b[0m \u001b[32m53.1/53.1 kB\u001b[0m \u001b[31m7.3 MB/s\u001b[0m eta \u001b[36m0:00:00\u001b[0m\n",
            "\u001b[?25hRequirement already satisfied: requests in /usr/local/lib/python3.10/dist-packages (from codecarbon) (2.27.1)\n",
            "Requirement already satisfied: psutil in /usr/local/lib/python3.10/dist-packages (from codecarbon) (5.9.5)\n",
            "Requirement already satisfied: py-cpuinfo in /usr/local/lib/python3.10/dist-packages (from codecarbon) (9.0.0)\n",
            "Collecting fuzzywuzzy (from codecarbon)\n",
            "  Downloading fuzzywuzzy-0.18.0-py2.py3-none-any.whl (18 kB)\n",
            "Requirement already satisfied: click in /usr/local/lib/python3.10/dist-packages (from codecarbon) (8.1.3)\n",
            "Requirement already satisfied: python-dateutil>=2.7.0 in /usr/local/lib/python3.10/dist-packages (from arrow->codecarbon) (2.8.2)\n",
            "Requirement already satisfied: pytz>=2020.1 in /usr/local/lib/python3.10/dist-packages (from pandas->codecarbon) (2022.7.1)\n",
            "Requirement already satisfied: numpy>=1.21.0 in /usr/local/lib/python3.10/dist-packages (from pandas->codecarbon) (1.22.4)\n",
            "Requirement already satisfied: urllib3<1.27,>=1.21.1 in /usr/local/lib/python3.10/dist-packages (from requests->codecarbon) (1.26.16)\n",
            "Requirement already satisfied: certifi>=2017.4.17 in /usr/local/lib/python3.10/dist-packages (from requests->codecarbon) (2023.5.7)\n",
            "Requirement already satisfied: charset-normalizer~=2.0.0 in /usr/local/lib/python3.10/dist-packages (from requests->codecarbon) (2.0.12)\n",
            "Requirement already satisfied: idna<4,>=2.5 in /usr/local/lib/python3.10/dist-packages (from requests->codecarbon) (3.4)\n",
            "Requirement already satisfied: six>=1.5 in /usr/local/lib/python3.10/dist-packages (from python-dateutil>=2.7.0->arrow->codecarbon) (1.16.0)\n",
            "Installing collected packages: fuzzywuzzy, pynvml, arrow, codecarbon\n",
            "Successfully installed arrow-1.2.3 codecarbon-2.2.4 fuzzywuzzy-0.18.0 pynvml-11.5.0\n"
          ]
        }
      ]
    },
    {
      "cell_type": "code",
      "source": [
        "import pandas as pd\n",
        "from codecarbon import EmissionsTracker\n",
        "from sklearn.model_selection import train_test_split"
      ],
      "metadata": {
        "id": "huPVfbaPToup"
      },
      "execution_count": 3,
      "outputs": []
    },
    {
      "cell_type": "code",
      "source": [
        "data = pd.read_csv(\"NEweather.csv\")\n",
        "features = data.loc[:, data.columns != data.columns[-1]]"
      ],
      "metadata": {
        "id": "8fBc0dIHTtz0"
      },
      "execution_count": 4,
      "outputs": []
    },
    {
      "cell_type": "code",
      "source": [
        "from sklearn.naive_bayes import GaussianNB\n",
        "\n",
        "tracker = EmissionsTracker()\n",
        "tracker.start()\n",
        "\n",
        "\n",
        "target =data.loc[:, data.columns[-1]]\n",
        "X_train, X_test, y_train, y_test = train_test_split(\n",
        "    features, target, test_size=0.33, random_state=125\n",
        ")\n",
        "\n",
        "model = GaussianNB()\n",
        "model.fit(X_train, y_train)\n",
        "\n",
        "print(\"Naive Bayes score: \",model.score(X_test, y_test))\n",
        "\n",
        "tracker.stop()"
      ],
      "metadata": {
        "colab": {
          "base_uri": "https://localhost:8080/"
        },
        "id": "65jS1eQNUMPd",
        "outputId": "0ed54a42-9975-40be-b4f3-e1769af46dbb"
      },
      "execution_count": 5,
      "outputs": [
        {
          "output_type": "stream",
          "name": "stderr",
          "text": [
            "[codecarbon INFO @ 20:11:14] [setup] RAM Tracking...\n",
            "[codecarbon INFO @ 20:11:14] [setup] GPU Tracking...\n",
            "[codecarbon INFO @ 20:11:14] Tracking Nvidia GPU via pynvml\n",
            "[codecarbon INFO @ 20:11:14] [setup] CPU Tracking...\n",
            "[codecarbon WARNING @ 20:11:14] No CPU tracking mode found. Falling back on CPU constant mode.\n",
            "[codecarbon WARNING @ 20:11:16] We saw that you have a Intel(R) Xeon(R) CPU @ 2.20GHz but we don't know it. Please contact us.\n",
            "[codecarbon INFO @ 20:11:16] CPU Model on constant consumption mode: Intel(R) Xeon(R) CPU @ 2.20GHz\n",
            "[codecarbon INFO @ 20:11:16] >>> Tracker's metadata:\n",
            "[codecarbon INFO @ 20:11:16]   Platform system: Linux-5.15.107+-x86_64-with-glibc2.31\n",
            "[codecarbon INFO @ 20:11:16]   Python version: 3.10.12\n",
            "[codecarbon INFO @ 20:11:16]   CodeCarbon version: 2.2.4\n",
            "[codecarbon INFO @ 20:11:16]   Available RAM : 12.678 GB\n",
            "[codecarbon INFO @ 20:11:16]   CPU count: 2\n",
            "[codecarbon INFO @ 20:11:16]   CPU model: Intel(R) Xeon(R) CPU @ 2.20GHz\n",
            "[codecarbon INFO @ 20:11:16]   GPU count: 1\n",
            "[codecarbon INFO @ 20:11:16]   GPU model: 1 x Tesla T4\n",
            "[codecarbon INFO @ 20:11:16] Energy consumed for RAM : 0.000000 kWh. RAM Power : 4.754399299621582 W\n",
            "[codecarbon INFO @ 20:11:16] Energy consumed for all GPUs : 0.000000 kWh. Total GPU Power : 10.028 W\n",
            "[codecarbon INFO @ 20:11:16] Energy consumed for all CPUs : 0.000001 kWh. Total CPU Power : 42.5 W\n",
            "[codecarbon INFO @ 20:11:16] 0.000001 kWh of electricity used since the beginning.\n"
          ]
        },
        {
          "output_type": "stream",
          "name": "stdout",
          "text": [
            "Naive Bayes score:  0.7221758718504923\n"
          ]
        },
        {
          "output_type": "execute_result",
          "data": {
            "text/plain": [
              "1.8204559757782177e-07"
            ]
          },
          "metadata": {},
          "execution_count": 5
        }
      ]
    },
    {
      "cell_type": "code",
      "source": [
        "from sklearn.neighbors import KNeighborsClassifier\n",
        "\n",
        "tracker = EmissionsTracker()\n",
        "tracker.start()\n",
        "\n",
        "\n",
        "target =data.loc[:, data.columns[-1]]\n",
        "X_train, X_test, y_train, y_test = train_test_split(\n",
        "    features, target, test_size=0.33, random_state=125\n",
        ")\n",
        "\n",
        "model = KNeighborsClassifier(n_neighbors=5)\n",
        "model.fit(X_train, y_train)\n",
        "\n",
        "print(\"KNN score: \",model.score(X_test, y_test))\n",
        "\n",
        "tracker.stop()"
      ],
      "metadata": {
        "colab": {
          "base_uri": "https://localhost:8080/"
        },
        "id": "MSN8-jjOTxj-",
        "outputId": "bc70bc90-9db4-4a95-cb89-226999a477a1"
      },
      "execution_count": 6,
      "outputs": [
        {
          "output_type": "stream",
          "name": "stderr",
          "text": [
            "[codecarbon INFO @ 20:11:16] [setup] RAM Tracking...\n",
            "[codecarbon INFO @ 20:11:16] [setup] GPU Tracking...\n",
            "[codecarbon INFO @ 20:11:16] Tracking Nvidia GPU via pynvml\n",
            "[codecarbon INFO @ 20:11:16] [setup] CPU Tracking...\n",
            "[codecarbon WARNING @ 20:11:16] No CPU tracking mode found. Falling back on CPU constant mode.\n",
            "[codecarbon WARNING @ 20:11:18] We saw that you have a Intel(R) Xeon(R) CPU @ 2.20GHz but we don't know it. Please contact us.\n",
            "[codecarbon INFO @ 20:11:18] CPU Model on constant consumption mode: Intel(R) Xeon(R) CPU @ 2.20GHz\n",
            "[codecarbon INFO @ 20:11:18] >>> Tracker's metadata:\n",
            "[codecarbon INFO @ 20:11:18]   Platform system: Linux-5.15.107+-x86_64-with-glibc2.31\n",
            "[codecarbon INFO @ 20:11:18]   Python version: 3.10.12\n",
            "[codecarbon INFO @ 20:11:18]   CodeCarbon version: 2.2.4\n",
            "[codecarbon INFO @ 20:11:18]   Available RAM : 12.678 GB\n",
            "[codecarbon INFO @ 20:11:18]   CPU count: 2\n",
            "[codecarbon INFO @ 20:11:18]   CPU model: Intel(R) Xeon(R) CPU @ 2.20GHz\n",
            "[codecarbon INFO @ 20:11:18]   GPU count: 1\n",
            "[codecarbon INFO @ 20:11:18]   GPU model: 1 x Tesla T4\n",
            "[codecarbon INFO @ 20:11:19] Energy consumed for RAM : 0.000001 kWh. RAM Power : 4.754399299621582 W\n",
            "[codecarbon INFO @ 20:11:19] Energy consumed for all GPUs : 0.000002 kWh. Total GPU Power : 10.028 W\n",
            "[codecarbon INFO @ 20:11:19] Energy consumed for all CPUs : 0.000007 kWh. Total CPU Power : 42.5 W\n",
            "[codecarbon INFO @ 20:11:19] 0.000009 kWh of electricity used since the beginning.\n"
          ]
        },
        {
          "output_type": "stream",
          "name": "stdout",
          "text": [
            "KNN score:  0.7864174870682463\n"
          ]
        },
        {
          "output_type": "execute_result",
          "data": {
            "text/plain": [
              "1.958732683209715e-06"
            ]
          },
          "metadata": {},
          "execution_count": 6
        }
      ]
    },
    {
      "cell_type": "code",
      "source": [
        "from sklearn.tree import DecisionTreeClassifier\n",
        "\n",
        "tracker = EmissionsTracker()\n",
        "tracker.start()\n",
        "\n",
        "\n",
        "target =data.loc[:, data.columns[-1]]\n",
        "X_train, X_test, y_train, y_test = train_test_split(\n",
        "    features, target, test_size=0.33, random_state=125\n",
        ")\n",
        "\n",
        "model = DecisionTreeClassifier()\n",
        "model.fit(X_train, y_train)\n",
        "\n",
        "print(\"Decision Tree score: \",model.score(X_test, y_test))\n",
        "\n",
        "tracker.stop()"
      ],
      "metadata": {
        "colab": {
          "base_uri": "https://localhost:8080/"
        },
        "id": "HlPSiQlQaKTH",
        "outputId": "1c894c6b-6e99-4f4e-eac5-b29cb785f47f"
      },
      "execution_count": 7,
      "outputs": [
        {
          "output_type": "stream",
          "name": "stderr",
          "text": [
            "[codecarbon INFO @ 20:11:19] [setup] RAM Tracking...\n",
            "[codecarbon INFO @ 20:11:19] [setup] GPU Tracking...\n",
            "[codecarbon INFO @ 20:11:19] Tracking Nvidia GPU via pynvml\n",
            "[codecarbon INFO @ 20:11:19] [setup] CPU Tracking...\n",
            "[codecarbon WARNING @ 20:11:19] No CPU tracking mode found. Falling back on CPU constant mode.\n",
            "[codecarbon WARNING @ 20:11:21] We saw that you have a Intel(R) Xeon(R) CPU @ 2.20GHz but we don't know it. Please contact us.\n",
            "[codecarbon INFO @ 20:11:21] CPU Model on constant consumption mode: Intel(R) Xeon(R) CPU @ 2.20GHz\n",
            "[codecarbon INFO @ 20:11:21] >>> Tracker's metadata:\n",
            "[codecarbon INFO @ 20:11:21]   Platform system: Linux-5.15.107+-x86_64-with-glibc2.31\n",
            "[codecarbon INFO @ 20:11:21]   Python version: 3.10.12\n",
            "[codecarbon INFO @ 20:11:21]   CodeCarbon version: 2.2.4\n",
            "[codecarbon INFO @ 20:11:21]   Available RAM : 12.678 GB\n",
            "[codecarbon INFO @ 20:11:21]   CPU count: 2\n",
            "[codecarbon INFO @ 20:11:21]   CPU model: Intel(R) Xeon(R) CPU @ 2.20GHz\n",
            "[codecarbon INFO @ 20:11:21]   GPU count: 1\n",
            "[codecarbon INFO @ 20:11:21]   GPU model: 1 x Tesla T4\n",
            "[codecarbon INFO @ 20:11:21] Energy consumed for RAM : 0.000000 kWh. RAM Power : 4.754399299621582 W\n",
            "[codecarbon INFO @ 20:11:21] Energy consumed for all GPUs : 0.000000 kWh. Total GPU Power : 10.131 W\n",
            "[codecarbon INFO @ 20:11:21] Energy consumed for all CPUs : 0.000002 kWh. Total CPU Power : 42.5 W\n",
            "[codecarbon INFO @ 20:11:21] 0.000003 kWh of electricity used since the beginning.\n"
          ]
        },
        {
          "output_type": "stream",
          "name": "stdout",
          "text": [
            "Decision Tree score:  0.7298514934089771\n"
          ]
        },
        {
          "output_type": "execute_result",
          "data": {
            "text/plain": [
              "6.096123988522765e-07"
            ]
          },
          "metadata": {},
          "execution_count": 7
        }
      ]
    },
    {
      "cell_type": "code",
      "source": [
        "data = pd.read_csv(\"agr_a_20k.csv\")\n",
        "features = data.loc[:, data.columns != data.columns[-1]]"
      ],
      "metadata": {
        "id": "yzviD4Bhal7w"
      },
      "execution_count": 8,
      "outputs": []
    },
    {
      "cell_type": "code",
      "source": [
        "from sklearn.naive_bayes import GaussianNB\n",
        "\n",
        "tracker = EmissionsTracker()\n",
        "tracker.start()\n",
        "\n",
        "\n",
        "target =data.loc[:, data.columns[-1]]\n",
        "X_train, X_test, y_train, y_test = train_test_split(\n",
        "    features, target, test_size=0.33, random_state=125\n",
        ")\n",
        "\n",
        "model = GaussianNB()\n",
        "model.fit(X_train, y_train)\n",
        "\n",
        "print(\"Naive Bayes score: \",model.score(X_test, y_test))\n",
        "\n",
        "tracker.stop()"
      ],
      "metadata": {
        "colab": {
          "base_uri": "https://localhost:8080/"
        },
        "id": "5pPeyTMeazUm",
        "outputId": "ffbafbf3-14f9-4f46-8a0f-1b20158abbd4"
      },
      "execution_count": 9,
      "outputs": [
        {
          "output_type": "stream",
          "name": "stderr",
          "text": [
            "[codecarbon INFO @ 20:11:21] [setup] RAM Tracking...\n",
            "[codecarbon INFO @ 20:11:21] [setup] GPU Tracking...\n",
            "[codecarbon INFO @ 20:11:21] Tracking Nvidia GPU via pynvml\n",
            "[codecarbon INFO @ 20:11:21] [setup] CPU Tracking...\n",
            "[codecarbon WARNING @ 20:11:21] No CPU tracking mode found. Falling back on CPU constant mode.\n",
            "[codecarbon WARNING @ 20:11:23] We saw that you have a Intel(R) Xeon(R) CPU @ 2.20GHz but we don't know it. Please contact us.\n",
            "[codecarbon INFO @ 20:11:23] CPU Model on constant consumption mode: Intel(R) Xeon(R) CPU @ 2.20GHz\n",
            "[codecarbon INFO @ 20:11:23] >>> Tracker's metadata:\n",
            "[codecarbon INFO @ 20:11:23]   Platform system: Linux-5.15.107+-x86_64-with-glibc2.31\n",
            "[codecarbon INFO @ 20:11:23]   Python version: 3.10.12\n",
            "[codecarbon INFO @ 20:11:23]   CodeCarbon version: 2.2.4\n",
            "[codecarbon INFO @ 20:11:23]   Available RAM : 12.678 GB\n",
            "[codecarbon INFO @ 20:11:23]   CPU count: 2\n",
            "[codecarbon INFO @ 20:11:23]   CPU model: Intel(R) Xeon(R) CPU @ 2.20GHz\n",
            "[codecarbon INFO @ 20:11:23]   GPU count: 1\n",
            "[codecarbon INFO @ 20:11:23]   GPU model: 1 x Tesla T4\n",
            "[codecarbon INFO @ 20:11:23] Energy consumed for RAM : 0.000000 kWh. RAM Power : 4.754399299621582 W\n",
            "[codecarbon INFO @ 20:11:23] Energy consumed for all GPUs : 0.000000 kWh. Total GPU Power : 10.423 W\n",
            "[codecarbon INFO @ 20:11:23] Energy consumed for all CPUs : 0.000001 kWh. Total CPU Power : 42.5 W\n",
            "[codecarbon INFO @ 20:11:23] 0.000001 kWh of electricity used since the beginning.\n"
          ]
        },
        {
          "output_type": "stream",
          "name": "stdout",
          "text": [
            "Naive Bayes score:  0.6053030303030303\n"
          ]
        },
        {
          "output_type": "execute_result",
          "data": {
            "text/plain": [
              "3.0640335732680314e-07"
            ]
          },
          "metadata": {},
          "execution_count": 9
        }
      ]
    },
    {
      "cell_type": "code",
      "source": [
        "from sklearn.neighbors import KNeighborsClassifier\n",
        "\n",
        "tracker = EmissionsTracker()\n",
        "tracker.start()\n",
        "\n",
        "\n",
        "features.drop(['elevel', 'car', 'zipcode'], axis='columns')\n",
        "target =data.loc[:, data.columns[-1]]\n",
        "X_train, X_test, y_train, y_test = train_test_split(\n",
        "    features, target, test_size=0.33, random_state=125\n",
        ")\n",
        "\n",
        "model = KNeighborsClassifier(n_neighbors=5)\n",
        "model.fit(X_train, y_train)\n",
        "\n",
        "print(\"KNN score: \",model.score(X_test, y_test))\n",
        "\n",
        "tracker.stop()"
      ],
      "metadata": {
        "colab": {
          "base_uri": "https://localhost:8080/"
        },
        "id": "sxVZ8XNoa6Gg",
        "outputId": "37a58e46-0e53-4b5d-ea6f-e8efc3ce7a68"
      },
      "execution_count": 10,
      "outputs": [
        {
          "output_type": "stream",
          "name": "stderr",
          "text": [
            "[codecarbon INFO @ 20:11:23] [setup] RAM Tracking...\n",
            "[codecarbon INFO @ 20:11:23] [setup] GPU Tracking...\n",
            "[codecarbon INFO @ 20:11:23] Tracking Nvidia GPU via pynvml\n",
            "[codecarbon INFO @ 20:11:23] [setup] CPU Tracking...\n",
            "[codecarbon WARNING @ 20:11:23] No CPU tracking mode found. Falling back on CPU constant mode.\n",
            "[codecarbon WARNING @ 20:11:26] We saw that you have a Intel(R) Xeon(R) CPU @ 2.20GHz but we don't know it. Please contact us.\n",
            "[codecarbon INFO @ 20:11:26] CPU Model on constant consumption mode: Intel(R) Xeon(R) CPU @ 2.20GHz\n",
            "[codecarbon INFO @ 20:11:26] >>> Tracker's metadata:\n",
            "[codecarbon INFO @ 20:11:26]   Platform system: Linux-5.15.107+-x86_64-with-glibc2.31\n",
            "[codecarbon INFO @ 20:11:26]   Python version: 3.10.12\n",
            "[codecarbon INFO @ 20:11:26]   CodeCarbon version: 2.2.4\n",
            "[codecarbon INFO @ 20:11:26]   Available RAM : 12.678 GB\n",
            "[codecarbon INFO @ 20:11:26]   CPU count: 2\n",
            "[codecarbon INFO @ 20:11:26]   CPU model: Intel(R) Xeon(R) CPU @ 2.20GHz\n",
            "[codecarbon INFO @ 20:11:26]   GPU count: 1\n",
            "[codecarbon INFO @ 20:11:26]   GPU model: 1 x Tesla T4\n",
            "[codecarbon INFO @ 20:11:26] Energy consumed for RAM : 0.000001 kWh. RAM Power : 4.754399299621582 W\n",
            "[codecarbon INFO @ 20:11:26] Energy consumed for all GPUs : 0.000002 kWh. Total GPU Power : 9.929 W\n",
            "[codecarbon INFO @ 20:11:26] Energy consumed for all CPUs : 0.000008 kWh. Total CPU Power : 42.5 W\n",
            "[codecarbon INFO @ 20:11:26] 0.000010 kWh of electricity used since the beginning.\n"
          ]
        },
        {
          "output_type": "stream",
          "name": "stdout",
          "text": [
            "KNN score:  0.5736363636363636\n"
          ]
        },
        {
          "output_type": "execute_result",
          "data": {
            "text/plain": [
              "2.235814267397838e-06"
            ]
          },
          "metadata": {},
          "execution_count": 10
        }
      ]
    },
    {
      "cell_type": "code",
      "source": [
        "from sklearn.tree import DecisionTreeClassifier\n",
        "\n",
        "tracker = EmissionsTracker()\n",
        "tracker.start()\n",
        "\n",
        "\n",
        "target =data.loc[:, data.columns[-1]]\n",
        "X_train, X_test, y_train, y_test = train_test_split(\n",
        "    features, target, test_size=0.33, random_state=125\n",
        ")\n",
        "\n",
        "model = DecisionTreeClassifier()\n",
        "model.fit(X_train, y_train)\n",
        "\n",
        "print(\"Decision Tree score: \",model.score(X_test, y_test))\n",
        "\n",
        "tracker.stop()"
      ],
      "metadata": {
        "colab": {
          "base_uri": "https://localhost:8080/"
        },
        "id": "CXc5L94YbBh5",
        "outputId": "ac053767-8482-48a4-ec85-1b034d71a16e"
      },
      "execution_count": 11,
      "outputs": [
        {
          "output_type": "stream",
          "name": "stderr",
          "text": [
            "[codecarbon INFO @ 20:11:26] [setup] RAM Tracking...\n",
            "[codecarbon INFO @ 20:11:26] [setup] GPU Tracking...\n",
            "[codecarbon INFO @ 20:11:26] Tracking Nvidia GPU via pynvml\n",
            "[codecarbon INFO @ 20:11:26] [setup] CPU Tracking...\n",
            "[codecarbon WARNING @ 20:11:26] No CPU tracking mode found. Falling back on CPU constant mode.\n",
            "[codecarbon WARNING @ 20:11:30] We saw that you have a Intel(R) Xeon(R) CPU @ 2.20GHz but we don't know it. Please contact us.\n",
            "[codecarbon INFO @ 20:11:30] CPU Model on constant consumption mode: Intel(R) Xeon(R) CPU @ 2.20GHz\n",
            "[codecarbon INFO @ 20:11:30] >>> Tracker's metadata:\n",
            "[codecarbon INFO @ 20:11:30]   Platform system: Linux-5.15.107+-x86_64-with-glibc2.31\n",
            "[codecarbon INFO @ 20:11:30]   Python version: 3.10.12\n",
            "[codecarbon INFO @ 20:11:30]   CodeCarbon version: 2.2.4\n",
            "[codecarbon INFO @ 20:11:30]   Available RAM : 12.678 GB\n",
            "[codecarbon INFO @ 20:11:30]   CPU count: 2\n",
            "[codecarbon INFO @ 20:11:30]   CPU model: Intel(R) Xeon(R) CPU @ 2.20GHz\n",
            "[codecarbon INFO @ 20:11:30]   GPU count: 1\n",
            "[codecarbon INFO @ 20:11:30]   GPU model: 1 x Tesla T4\n",
            "[codecarbon INFO @ 20:11:30] Energy consumed for RAM : 0.000000 kWh. RAM Power : 4.754399299621582 W\n",
            "[codecarbon INFO @ 20:11:30] Energy consumed for all GPUs : 0.000001 kWh. Total GPU Power : 10.225 W\n",
            "[codecarbon INFO @ 20:11:30] Energy consumed for all CPUs : 0.000004 kWh. Total CPU Power : 42.5 W\n",
            "[codecarbon INFO @ 20:11:30] 0.000005 kWh of electricity used since the beginning.\n"
          ]
        },
        {
          "output_type": "stream",
          "name": "stdout",
          "text": [
            "Decision Tree score:  0.5953030303030303\n"
          ]
        },
        {
          "output_type": "execute_result",
          "data": {
            "text/plain": [
              "1.1944178288900491e-06"
            ]
          },
          "metadata": {},
          "execution_count": 11
        }
      ]
    }
  ]
}