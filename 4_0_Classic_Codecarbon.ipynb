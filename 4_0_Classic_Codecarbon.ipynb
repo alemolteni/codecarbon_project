{
  "nbformat": 4,
  "nbformat_minor": 0,
  "metadata": {
    "colab": {
      "provenance": [],
      "gpuType": "T4",
      "authorship_tag": "ABX9TyPTfs59crbgZDE6YNMYXaGC",
      "include_colab_link": true
    },
    "kernelspec": {
      "name": "python3",
      "display_name": "Python 3"
    },
    "language_info": {
      "name": "python"
    },
    "accelerator": "GPU"
  },
  "cells": [
    {
      "cell_type": "markdown",
      "metadata": {
        "id": "view-in-github",
        "colab_type": "text"
      },
      "source": [
        "<a href=\"https://colab.research.google.com/github/alemolteni/codecarbon_project/blob/main/4_0_Classic_Codecarbon.ipynb\" target=\"_parent\"><img src=\"https://colab.research.google.com/assets/colab-badge.svg\" alt=\"Open In Colab\"/></a>"
      ]
    },
    {
      "cell_type": "code",
      "source": [
        "from google.colab import drive\n",
        "drive.mount('/gdrive')\n",
        "!cp \"/gdrive/My Drive/CodeCarbon/datasets/NEweather.csv\" /content\n",
        "!cp \"/gdrive/My Drive/CodeCarbon/datasets/agr_a_20k.csv\" /content"
      ],
      "metadata": {
        "colab": {
          "base_uri": "https://localhost:8080/"
        },
        "id": "21PzUZCGSHXF",
        "outputId": "b8dbb8ee-5c0f-4e07-d8e1-39d8fc956246"
      },
      "execution_count": 1,
      "outputs": [
        {
          "output_type": "stream",
          "name": "stdout",
          "text": [
            "Mounted at /gdrive\n"
          ]
        }
      ]
    },
    {
      "cell_type": "code",
      "source": [
        "!pip install codecarbon"
      ],
      "metadata": {
        "colab": {
          "base_uri": "https://localhost:8080/"
        },
        "id": "Pw7E9QeCSQV_",
        "outputId": "24d91649-4f08-42bf-b2ec-3381d383f310"
      },
      "execution_count": 2,
      "outputs": [
        {
          "output_type": "stream",
          "name": "stdout",
          "text": [
            "Collecting codecarbon\n",
            "  Downloading codecarbon-2.2.4-py3-none-any.whl (176 kB)\n",
            "\u001b[?25l     \u001b[90m━━━━━━━━━━━━━━━━━━━━━━━━━━━━━━━━━━━━━━━━\u001b[0m \u001b[32m0.0/176.0 kB\u001b[0m \u001b[31m?\u001b[0m eta \u001b[36m-:--:--\u001b[0m\r\u001b[2K     \u001b[90m━━━━━━━━━━━━━━━━━━━━━━━━━━━━━━━━━━━━━━\u001b[0m \u001b[32m176.0/176.0 kB\u001b[0m \u001b[31m16.9 MB/s\u001b[0m eta \u001b[36m0:00:00\u001b[0m\n",
            "\u001b[?25hCollecting arrow (from codecarbon)\n",
            "  Downloading arrow-1.2.3-py3-none-any.whl (66 kB)\n",
            "\u001b[?25l     \u001b[90m━━━━━━━━━━━━━━━━━━━━━━━━━━━━━━━━━━━━━━━━\u001b[0m \u001b[32m0.0/66.4 kB\u001b[0m \u001b[31m?\u001b[0m eta \u001b[36m-:--:--\u001b[0m\r\u001b[2K     \u001b[90m━━━━━━━━━━━━━━━━━━━━━━━━━━━━━━━━━━━━━━━━\u001b[0m \u001b[32m66.4/66.4 kB\u001b[0m \u001b[31m5.4 MB/s\u001b[0m eta \u001b[36m0:00:00\u001b[0m\n",
            "\u001b[?25hRequirement already satisfied: pandas in /usr/local/lib/python3.10/dist-packages (from codecarbon) (1.5.3)\n",
            "Collecting pynvml (from codecarbon)\n",
            "  Downloading pynvml-11.5.0-py3-none-any.whl (53 kB)\n",
            "\u001b[?25l     \u001b[90m━━━━━━━━━━━━━━━━━━━━━━━━━━━━━━━━━━━━━━━━\u001b[0m \u001b[32m0.0/53.1 kB\u001b[0m \u001b[31m?\u001b[0m eta \u001b[36m-:--:--\u001b[0m\r\u001b[2K     \u001b[90m━━━━━━━━━━━━━━━━━━━━━━━━━━━━━━━━━━━━━━━━\u001b[0m \u001b[32m53.1/53.1 kB\u001b[0m \u001b[31m7.3 MB/s\u001b[0m eta \u001b[36m0:00:00\u001b[0m\n",
            "\u001b[?25hRequirement already satisfied: requests in /usr/local/lib/python3.10/dist-packages (from codecarbon) (2.27.1)\n",
            "Requirement already satisfied: psutil in /usr/local/lib/python3.10/dist-packages (from codecarbon) (5.9.5)\n",
            "Requirement already satisfied: py-cpuinfo in /usr/local/lib/python3.10/dist-packages (from codecarbon) (9.0.0)\n",
            "Collecting fuzzywuzzy (from codecarbon)\n",
            "  Downloading fuzzywuzzy-0.18.0-py2.py3-none-any.whl (18 kB)\n",
            "Requirement already satisfied: click in /usr/local/lib/python3.10/dist-packages (from codecarbon) (8.1.3)\n",
            "Requirement already satisfied: python-dateutil>=2.7.0 in /usr/local/lib/python3.10/dist-packages (from arrow->codecarbon) (2.8.2)\n",
            "Requirement already satisfied: pytz>=2020.1 in /usr/local/lib/python3.10/dist-packages (from pandas->codecarbon) (2022.7.1)\n",
            "Requirement already satisfied: numpy>=1.21.0 in /usr/local/lib/python3.10/dist-packages (from pandas->codecarbon) (1.22.4)\n",
            "Requirement already satisfied: urllib3<1.27,>=1.21.1 in /usr/local/lib/python3.10/dist-packages (from requests->codecarbon) (1.26.16)\n",
            "Requirement already satisfied: certifi>=2017.4.17 in /usr/local/lib/python3.10/dist-packages (from requests->codecarbon) (2023.5.7)\n",
            "Requirement already satisfied: charset-normalizer~=2.0.0 in /usr/local/lib/python3.10/dist-packages (from requests->codecarbon) (2.0.12)\n",
            "Requirement already satisfied: idna<4,>=2.5 in /usr/local/lib/python3.10/dist-packages (from requests->codecarbon) (3.4)\n",
            "Requirement already satisfied: six>=1.5 in /usr/local/lib/python3.10/dist-packages (from python-dateutil>=2.7.0->arrow->codecarbon) (1.16.0)\n",
            "Installing collected packages: fuzzywuzzy, pynvml, arrow, codecarbon\n",
            "Successfully installed arrow-1.2.3 codecarbon-2.2.4 fuzzywuzzy-0.18.0 pynvml-11.5.0\n"
          ]
        }
      ]
    },
    {
      "cell_type": "code",
      "source": [
        "import pandas as pd\n",
        "from codecarbon import EmissionsTracker\n",
        "from sklearn.model_selection import train_test_split"
      ],
      "metadata": {
        "id": "g47TUTWqSSZr"
      },
      "execution_count": 3,
      "outputs": []
    },
    {
      "cell_type": "code",
      "source": [
        "data = pd.read_csv(\"NEweather.csv\")\n",
        "features = data.loc[:, data.columns != data.columns[-1]]"
      ],
      "metadata": {
        "id": "zuoUDVv0SUqG"
      },
      "execution_count": 4,
      "outputs": []
    },
    {
      "cell_type": "code",
      "source": [
        "from sklearn.ensemble import BaggingClassifier\n",
        "from sklearn.tree import DecisionTreeClassifier\n",
        "\n",
        "tracker = EmissionsTracker()\n",
        "tracker.start()\n",
        "\n",
        "\n",
        "target =data.loc[:, data.columns[-1]]\n",
        "X_train, X_test, y_train, y_test = train_test_split(\n",
        "    features, target, test_size=0.33, random_state=125\n",
        ")\n",
        "\n",
        "model = BaggingClassifier(estimator=DecisionTreeClassifier(), n_estimators=10)\n",
        "model.fit(X_train, y_train)\n",
        "\n",
        "print(\"Bagging classifier score: \",model.score(X_test, y_test))\n",
        "\n",
        "tracker.stop()"
      ],
      "metadata": {
        "colab": {
          "base_uri": "https://localhost:8080/"
        },
        "id": "n4YzmxJAShUy",
        "outputId": "ddc0f282-a45b-4fb9-e6a8-ecd6df7e3877"
      },
      "execution_count": 5,
      "outputs": [
        {
          "output_type": "stream",
          "name": "stderr",
          "text": [
            "[codecarbon INFO @ 20:19:06] [setup] RAM Tracking...\n",
            "[codecarbon INFO @ 20:19:06] [setup] GPU Tracking...\n",
            "[codecarbon INFO @ 20:19:06] Tracking Nvidia GPU via pynvml\n",
            "[codecarbon INFO @ 20:19:06] [setup] CPU Tracking...\n",
            "[codecarbon WARNING @ 20:19:06] No CPU tracking mode found. Falling back on CPU constant mode.\n",
            "[codecarbon WARNING @ 20:19:08] We saw that you have a Intel(R) Xeon(R) CPU @ 2.20GHz but we don't know it. Please contact us.\n",
            "[codecarbon INFO @ 20:19:08] CPU Model on constant consumption mode: Intel(R) Xeon(R) CPU @ 2.20GHz\n",
            "[codecarbon INFO @ 20:19:08] >>> Tracker's metadata:\n",
            "[codecarbon INFO @ 20:19:08]   Platform system: Linux-5.15.107+-x86_64-with-glibc2.31\n",
            "[codecarbon INFO @ 20:19:08]   Python version: 3.10.12\n",
            "[codecarbon INFO @ 20:19:08]   CodeCarbon version: 2.2.4\n",
            "[codecarbon INFO @ 20:19:08]   Available RAM : 12.678 GB\n",
            "[codecarbon INFO @ 20:19:08]   CPU count: 2\n",
            "[codecarbon INFO @ 20:19:08]   CPU model: Intel(R) Xeon(R) CPU @ 2.20GHz\n",
            "[codecarbon INFO @ 20:19:08]   GPU count: 1\n",
            "[codecarbon INFO @ 20:19:08]   GPU model: 1 x Tesla T4\n",
            "[codecarbon WARNING @ 20:19:08] Unable to access geographical location. Using 'Canada' as the default value - Exception : [Errno Expecting value] <html>\n",
            "<head><title>500 Internal Server Error</title></head>\n",
            "<body>\n",
            "<center><h1>500 Internal Server Error</h1></center>\n",
            "<hr><center>openresty</center>\n",
            "</body>\n",
            "</html>\n",
            ": 0\n",
            "[codecarbon INFO @ 20:19:09] Energy consumed for RAM : 0.000001 kWh. RAM Power : 4.754399299621582 W\n",
            "[codecarbon INFO @ 20:19:09] Energy consumed for all GPUs : 0.000001 kWh. Total GPU Power : 9.86 W\n",
            "[codecarbon INFO @ 20:19:09] Energy consumed for all CPUs : 0.000006 kWh. Total CPU Power : 42.5 W\n",
            "[codecarbon INFO @ 20:19:09] 0.000008 kWh of electricity used since the beginning.\n"
          ]
        },
        {
          "output_type": "stream",
          "name": "stdout",
          "text": [
            "Bagging classifier score:  0.7869180710829301\n"
          ]
        },
        {
          "output_type": "execute_result",
          "data": {
            "text/plain": [
              "1.9452970913179655e-08"
            ]
          },
          "metadata": {},
          "execution_count": 5
        }
      ]
    },
    {
      "cell_type": "code",
      "source": [
        "from sklearn.ensemble import RandomForestClassifier\n",
        "\n",
        "tracker = EmissionsTracker()\n",
        "tracker.start()\n",
        "\n",
        "\n",
        "target =data.loc[:, data.columns[-1]]\n",
        "X_train, X_test, y_train, y_test = train_test_split(\n",
        "    features, target, test_size=0.33, random_state=125\n",
        ")\n",
        "\n",
        "model = RandomForestClassifier(n_estimators=10)\n",
        "model.fit(X_train, y_train)\n",
        "\n",
        "print(\"Random forest score: \",model.score(X_test, y_test))\n",
        "\n",
        "tracker.stop()"
      ],
      "metadata": {
        "id": "RU7IeDibyo_s",
        "colab": {
          "base_uri": "https://localhost:8080/"
        },
        "outputId": "7c64a76f-ac2e-450c-8716-687a520495a1"
      },
      "execution_count": 6,
      "outputs": [
        {
          "output_type": "stream",
          "name": "stderr",
          "text": [
            "[codecarbon INFO @ 20:19:09] [setup] RAM Tracking...\n",
            "[codecarbon INFO @ 20:19:09] [setup] GPU Tracking...\n",
            "[codecarbon INFO @ 20:19:09] Tracking Nvidia GPU via pynvml\n",
            "[codecarbon INFO @ 20:19:09] [setup] CPU Tracking...\n",
            "[codecarbon WARNING @ 20:19:09] No CPU tracking mode found. Falling back on CPU constant mode.\n",
            "[codecarbon WARNING @ 20:19:10] We saw that you have a Intel(R) Xeon(R) CPU @ 2.20GHz but we don't know it. Please contact us.\n",
            "[codecarbon INFO @ 20:19:10] CPU Model on constant consumption mode: Intel(R) Xeon(R) CPU @ 2.20GHz\n",
            "[codecarbon INFO @ 20:19:10] >>> Tracker's metadata:\n",
            "[codecarbon INFO @ 20:19:10]   Platform system: Linux-5.15.107+-x86_64-with-glibc2.31\n",
            "[codecarbon INFO @ 20:19:10]   Python version: 3.10.12\n",
            "[codecarbon INFO @ 20:19:10]   CodeCarbon version: 2.2.4\n",
            "[codecarbon INFO @ 20:19:10]   Available RAM : 12.678 GB\n",
            "[codecarbon INFO @ 20:19:10]   CPU count: 2\n",
            "[codecarbon INFO @ 20:19:10]   CPU model: Intel(R) Xeon(R) CPU @ 2.20GHz\n",
            "[codecarbon INFO @ 20:19:10]   GPU count: 1\n",
            "[codecarbon INFO @ 20:19:10]   GPU model: 1 x Tesla T4\n",
            "[codecarbon INFO @ 20:19:11] Energy consumed for RAM : 0.000000 kWh. RAM Power : 4.754399299621582 W\n",
            "[codecarbon INFO @ 20:19:11] Energy consumed for all GPUs : 0.000001 kWh. Total GPU Power : 9.86 W\n",
            "[codecarbon INFO @ 20:19:11] Energy consumed for all CPUs : 0.000002 kWh. Total CPU Power : 42.5 W\n",
            "[codecarbon INFO @ 20:19:11] 0.000003 kWh of electricity used since the beginning.\n"
          ]
        },
        {
          "output_type": "stream",
          "name": "stdout",
          "text": [
            "Random forest score:  0.7894209911563491\n"
          ]
        },
        {
          "output_type": "execute_result",
          "data": {
            "text/plain": [
              "1.5223504451487084e-06"
            ]
          },
          "metadata": {},
          "execution_count": 6
        }
      ]
    },
    {
      "cell_type": "code",
      "source": [
        "data = pd.read_csv(\"agr_a_20k.csv\")\n",
        "features = data.loc[:, data.columns != data.columns[-1]]"
      ],
      "metadata": {
        "id": "MC5iF4hXzUc5"
      },
      "execution_count": 7,
      "outputs": []
    },
    {
      "cell_type": "code",
      "source": [
        "from sklearn.ensemble import BaggingClassifier\n",
        "from sklearn.tree import DecisionTreeClassifier\n",
        "\n",
        "tracker = EmissionsTracker()\n",
        "tracker.start()\n",
        "\n",
        "\n",
        "target =data.loc[:, data.columns[-1]]\n",
        "X_train, X_test, y_train, y_test = train_test_split(\n",
        "    features, target, test_size=0.33, random_state=125\n",
        ")\n",
        "\n",
        "model = BaggingClassifier(estimator=DecisionTreeClassifier(), n_estimators=10)\n",
        "model.fit(X_train, y_train)\n",
        "\n",
        "print(\"Bagging classifier score: \",model.score(X_test, y_test))\n",
        "\n",
        "tracker.stop()"
      ],
      "metadata": {
        "id": "PFKlIpwmzaWP",
        "colab": {
          "base_uri": "https://localhost:8080/"
        },
        "outputId": "2acae8f0-c99e-47b8-cb19-687d85ace207"
      },
      "execution_count": 8,
      "outputs": [
        {
          "output_type": "stream",
          "name": "stderr",
          "text": [
            "[codecarbon INFO @ 20:19:11] [setup] RAM Tracking...\n",
            "[codecarbon INFO @ 20:19:11] [setup] GPU Tracking...\n",
            "[codecarbon INFO @ 20:19:11] Tracking Nvidia GPU via pynvml\n",
            "[codecarbon INFO @ 20:19:11] [setup] CPU Tracking...\n",
            "[codecarbon WARNING @ 20:19:11] No CPU tracking mode found. Falling back on CPU constant mode.\n",
            "[codecarbon WARNING @ 20:19:13] We saw that you have a Intel(R) Xeon(R) CPU @ 2.20GHz but we don't know it. Please contact us.\n",
            "[codecarbon INFO @ 20:19:13] CPU Model on constant consumption mode: Intel(R) Xeon(R) CPU @ 2.20GHz\n",
            "[codecarbon INFO @ 20:19:13] >>> Tracker's metadata:\n",
            "[codecarbon INFO @ 20:19:13]   Platform system: Linux-5.15.107+-x86_64-with-glibc2.31\n",
            "[codecarbon INFO @ 20:19:13]   Python version: 3.10.12\n",
            "[codecarbon INFO @ 20:19:13]   CodeCarbon version: 2.2.4\n",
            "[codecarbon INFO @ 20:19:13]   Available RAM : 12.678 GB\n",
            "[codecarbon INFO @ 20:19:13]   CPU count: 2\n",
            "[codecarbon INFO @ 20:19:13]   CPU model: Intel(R) Xeon(R) CPU @ 2.20GHz\n",
            "[codecarbon INFO @ 20:19:13]   GPU count: 1\n",
            "[codecarbon INFO @ 20:19:13]   GPU model: 1 x Tesla T4\n",
            "[codecarbon WARNING @ 20:19:13] Unable to access geographical location. Using 'Canada' as the default value - Exception : HTTPSConnectionPool(host='get.geojs.io', port=443): Read timed out. (read timeout=0.5)\n",
            "[codecarbon INFO @ 20:19:14] Energy consumed for RAM : 0.000001 kWh. RAM Power : 4.754399299621582 W\n",
            "[codecarbon INFO @ 20:19:14] Energy consumed for all GPUs : 0.000001 kWh. Total GPU Power : 9.960000000000003 W\n",
            "[codecarbon INFO @ 20:19:14] Energy consumed for all CPUs : 0.000005 kWh. Total CPU Power : 42.5 W\n",
            "[codecarbon INFO @ 20:19:14] 0.000007 kWh of electricity used since the beginning.\n"
          ]
        },
        {
          "output_type": "stream",
          "name": "stdout",
          "text": [
            "Bagging classifier score:  0.5956060606060606\n"
          ]
        },
        {
          "output_type": "execute_result",
          "data": {
            "text/plain": [
              "1.7309844859526998e-08"
            ]
          },
          "metadata": {},
          "execution_count": 8
        }
      ]
    },
    {
      "cell_type": "code",
      "source": [
        "from sklearn.ensemble import RandomForestClassifier\n",
        "\n",
        "tracker = EmissionsTracker()\n",
        "tracker.start()\n",
        "\n",
        "\n",
        "target =data.loc[:, data.columns[-1]]\n",
        "X_train, X_test, y_train, y_test = train_test_split(\n",
        "    features, target, test_size=0.33, random_state=125\n",
        ")\n",
        "\n",
        "model = RandomForestClassifier(n_estimators=10)\n",
        "model.fit(X_train, y_train)\n",
        "\n",
        "print(\"Random forest score: \",model.score(X_test, y_test))\n",
        "\n",
        "tracker.stop()"
      ],
      "metadata": {
        "id": "CQ6TpV7Tzh2G",
        "colab": {
          "base_uri": "https://localhost:8080/"
        },
        "outputId": "e8c3a1eb-2aa3-456d-d1f3-4f202de5b8c1"
      },
      "execution_count": 9,
      "outputs": [
        {
          "output_type": "stream",
          "name": "stderr",
          "text": [
            "[codecarbon INFO @ 20:19:14] [setup] RAM Tracking...\n",
            "[codecarbon INFO @ 20:19:14] [setup] GPU Tracking...\n",
            "[codecarbon INFO @ 20:19:14] Tracking Nvidia GPU via pynvml\n",
            "[codecarbon INFO @ 20:19:14] [setup] CPU Tracking...\n",
            "[codecarbon WARNING @ 20:19:14] No CPU tracking mode found. Falling back on CPU constant mode.\n",
            "[codecarbon WARNING @ 20:19:15] We saw that you have a Intel(R) Xeon(R) CPU @ 2.20GHz but we don't know it. Please contact us.\n",
            "[codecarbon INFO @ 20:19:15] CPU Model on constant consumption mode: Intel(R) Xeon(R) CPU @ 2.20GHz\n",
            "[codecarbon INFO @ 20:19:15] >>> Tracker's metadata:\n",
            "[codecarbon INFO @ 20:19:15]   Platform system: Linux-5.15.107+-x86_64-with-glibc2.31\n",
            "[codecarbon INFO @ 20:19:15]   Python version: 3.10.12\n",
            "[codecarbon INFO @ 20:19:15]   CodeCarbon version: 2.2.4\n",
            "[codecarbon INFO @ 20:19:15]   Available RAM : 12.678 GB\n",
            "[codecarbon INFO @ 20:19:15]   CPU count: 2\n",
            "[codecarbon INFO @ 20:19:15]   CPU model: Intel(R) Xeon(R) CPU @ 2.20GHz\n",
            "[codecarbon INFO @ 20:19:15]   GPU count: 1\n",
            "[codecarbon INFO @ 20:19:15]   GPU model: 1 x Tesla T4\n",
            "[codecarbon WARNING @ 20:19:16] Unable to access geographical location. Using 'Canada' as the default value - Exception : HTTPSConnectionPool(host='get.geojs.io', port=443): Read timed out. (read timeout=0.5)\n",
            "[codecarbon INFO @ 20:19:16] Energy consumed for RAM : 0.000001 kWh. RAM Power : 4.754399299621582 W\n",
            "[codecarbon INFO @ 20:19:16] Energy consumed for all GPUs : 0.000001 kWh. Total GPU Power : 9.956 W\n",
            "[codecarbon INFO @ 20:19:16] Energy consumed for all CPUs : 0.000005 kWh. Total CPU Power : 42.5 W\n",
            "[codecarbon INFO @ 20:19:16] 0.000006 kWh of electricity used since the beginning.\n"
          ]
        },
        {
          "output_type": "stream",
          "name": "stdout",
          "text": [
            "Random forest score:  0.5969696969696969\n"
          ]
        },
        {
          "output_type": "execute_result",
          "data": {
            "text/plain": [
              "1.532288328914909e-08"
            ]
          },
          "metadata": {},
          "execution_count": 9
        }
      ]
    }
  ]
}