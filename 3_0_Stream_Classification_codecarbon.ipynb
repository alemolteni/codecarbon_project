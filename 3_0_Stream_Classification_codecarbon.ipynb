{
  "cells": [
    {
      "cell_type": "markdown",
      "metadata": {
        "id": "view-in-github",
        "colab_type": "text"
      },
      "source": [
        "<a href=\"https://colab.research.google.com/github/alemolteni/codecarbon_project/blob/main/3_0_Stream_Classification_codecarbon.ipynb\" target=\"_parent\"><img src=\"https://colab.research.google.com/assets/colab-badge.svg\" alt=\"Open In Colab\"/></a>"
      ]
    },
    {
      "cell_type": "markdown",
      "metadata": {
        "id": "j1YVFg7Nrvu6"
      },
      "source": [
        "# Stream Classification\n",
        "---\n",
        "\n",
        "## `NEWeather` dataset\n",
        "\n",
        "**Description:** The National Oceanic and Atmospheric Administration (NOAA),\n",
        "has compiled a database of weather measurements from over 7,000 weather\n",
        "stations worldwide. Records date back to the mid-1900s. Daily measurements\n",
        "include a variety of features (temperature, pressure, wind speed, etc.) as\n",
        "well as a series of indicators for precipitation and other weather-related\n",
        "events. The `NEweather` dataset contains data from this database, specifically\n",
        "from the Offutt Air Force Base in Bellevue, Nebraska ranging for over 50 years\n",
        "(1949-1999).\n",
        "\n",
        "**Features:** 8 Daily weather measurements\n",
        "\n",
        "|       Attribute      | Description |\n",
        "|:--------------------:|:-----------------------------|\n",
        "| `temp`                   | Temperature\n",
        "| `dew_pnt`                | Dew Point\n",
        "| `sea_lvl_press`          | Sea Level Pressure\n",
        "| `visibility`             | Visibility\n",
        "| `avg_wind_spd`           | Average Wind Speed\n",
        "| `max_sustained_wind_spd` | Maximum Sustained Wind Speed\n",
        "| `max_temp`               | Maximum Temperature\n",
        "| `min_temp`               | Minimum Temperature\n",
        "\n",
        "\n",
        "**Class:** `rain` | 0: no rain, 1: rain\n",
        "\n",
        "**Samples:** 18,159\n"
      ]
    },
    {
      "cell_type": "code",
      "execution_count": 1,
      "metadata": {
        "colab": {
          "base_uri": "https://localhost:8080/"
        },
        "id": "6RzU47TV6t3N",
        "outputId": "3f144b25-f0c9-4912-a6e8-4303c3e2e37a"
      },
      "outputs": [
        {
          "output_type": "stream",
          "name": "stdout",
          "text": [
            "Mounted at /gdrive\n"
          ]
        }
      ],
      "source": [
        "from google.colab import drive\n",
        "drive.mount('/gdrive')\n",
        "!cp \"/gdrive/My Drive/CodeCarbon/datasets/NEweather.csv\" /content\n",
        "!cp \"/gdrive/My Drive/CodeCarbon/datasets/agr_a_20k.csv\" /content"
      ]
    },
    {
      "cell_type": "code",
      "execution_count": 2,
      "metadata": {
        "colab": {
          "base_uri": "https://localhost:8080/"
        },
        "id": "CpfDVw2mFoBe",
        "outputId": "c8fe4b75-588f-47e3-8e7d-a897459bf6f3"
      },
      "outputs": [
        {
          "output_type": "stream",
          "name": "stdout",
          "text": [
            "Collecting river==0.7\n",
            "  Downloading river-0.7.0.tar.gz (845 kB)\n",
            "\u001b[?25l     \u001b[90m━━━━━━━━━━━━━━━━━━━━━━━━━━━━━━━━━━━━━━━━\u001b[0m \u001b[32m0.0/846.0 kB\u001b[0m \u001b[31m?\u001b[0m eta \u001b[36m-:--:--\u001b[0m\r\u001b[2K     \u001b[90m━━━━━━━━━━━━━━━━━━━━━━━━━━━━━━━━━━━━━━\u001b[0m \u001b[32m846.0/846.0 kB\u001b[0m \u001b[31m38.4 MB/s\u001b[0m eta \u001b[36m0:00:00\u001b[0m\n",
            "\u001b[?25h  Preparing metadata (setup.py) ... \u001b[?25l\u001b[?25hdone\n",
            "Requirement already satisfied: numpy>=1.18.1 in /usr/local/lib/python3.10/dist-packages (from river==0.7) (1.22.4)\n",
            "Requirement already satisfied: scipy>=1.4.1 in /usr/local/lib/python3.10/dist-packages (from river==0.7) (1.10.1)\n",
            "Requirement already satisfied: pandas>=1.0.1 in /usr/local/lib/python3.10/dist-packages (from river==0.7) (1.5.3)\n",
            "Requirement already satisfied: python-dateutil>=2.8.1 in /usr/local/lib/python3.10/dist-packages (from pandas>=1.0.1->river==0.7) (2.8.2)\n",
            "Requirement already satisfied: pytz>=2020.1 in /usr/local/lib/python3.10/dist-packages (from pandas>=1.0.1->river==0.7) (2022.7.1)\n",
            "Requirement already satisfied: six>=1.5 in /usr/local/lib/python3.10/dist-packages (from python-dateutil>=2.8.1->pandas>=1.0.1->river==0.7) (1.16.0)\n",
            "Building wheels for collected packages: river\n",
            "  Building wheel for river (setup.py) ... \u001b[?25l\u001b[?25hdone\n",
            "  Created wheel for river: filename=river-0.7.0-cp310-cp310-linux_x86_64.whl size=2359771 sha256=d3f5bb3b265b96d3323283d65426fe80c97d3d59021d766b1130d5ec1337fd8b\n",
            "  Stored in directory: /root/.cache/pip/wheels/71/e9/7e/105173d51ebb5262f6f2dc4f6a5003ec86365255e8fd989733\n",
            "Successfully built river\n",
            "Installing collected packages: river\n",
            "Successfully installed river-0.7.0\n"
          ]
        }
      ],
      "source": [
        "!pip install river==0.7"
      ]
    },
    {
      "cell_type": "code",
      "execution_count": 3,
      "metadata": {
        "colab": {
          "base_uri": "https://localhost:8080/"
        },
        "id": "KVGj-n6dFq5f",
        "outputId": "2415a1b1-f691-472e-f4f9-44d8c255216f"
      },
      "outputs": [
        {
          "output_type": "stream",
          "name": "stdout",
          "text": [
            "Collecting codecarbon\n",
            "  Downloading codecarbon-2.2.4-py3-none-any.whl (176 kB)\n",
            "\u001b[2K     \u001b[90m━━━━━━━━━━━━━━━━━━━━━━━━━━━━━━━━━━━━━━\u001b[0m \u001b[32m176.0/176.0 kB\u001b[0m \u001b[31m12.0 MB/s\u001b[0m eta \u001b[36m0:00:00\u001b[0m\n",
            "\u001b[?25hCollecting arrow (from codecarbon)\n",
            "  Downloading arrow-1.2.3-py3-none-any.whl (66 kB)\n",
            "\u001b[2K     \u001b[90m━━━━━━━━━━━━━━━━━━━━━━━━━━━━━━━━━━━━━━━━\u001b[0m \u001b[32m66.4/66.4 kB\u001b[0m \u001b[31m9.9 MB/s\u001b[0m eta \u001b[36m0:00:00\u001b[0m\n",
            "\u001b[?25hRequirement already satisfied: pandas in /usr/local/lib/python3.10/dist-packages (from codecarbon) (1.5.3)\n",
            "Collecting pynvml (from codecarbon)\n",
            "  Downloading pynvml-11.5.0-py3-none-any.whl (53 kB)\n",
            "\u001b[2K     \u001b[90m━━━━━━━━━━━━━━━━━━━━━━━━━━━━━━━━━━━━━━━━\u001b[0m \u001b[32m53.1/53.1 kB\u001b[0m \u001b[31m8.1 MB/s\u001b[0m eta \u001b[36m0:00:00\u001b[0m\n",
            "\u001b[?25hRequirement already satisfied: requests in /usr/local/lib/python3.10/dist-packages (from codecarbon) (2.27.1)\n",
            "Requirement already satisfied: psutil in /usr/local/lib/python3.10/dist-packages (from codecarbon) (5.9.5)\n",
            "Requirement already satisfied: py-cpuinfo in /usr/local/lib/python3.10/dist-packages (from codecarbon) (9.0.0)\n",
            "Collecting fuzzywuzzy (from codecarbon)\n",
            "  Downloading fuzzywuzzy-0.18.0-py2.py3-none-any.whl (18 kB)\n",
            "Requirement already satisfied: click in /usr/local/lib/python3.10/dist-packages (from codecarbon) (8.1.3)\n",
            "Requirement already satisfied: python-dateutil>=2.7.0 in /usr/local/lib/python3.10/dist-packages (from arrow->codecarbon) (2.8.2)\n",
            "Requirement already satisfied: pytz>=2020.1 in /usr/local/lib/python3.10/dist-packages (from pandas->codecarbon) (2022.7.1)\n",
            "Requirement already satisfied: numpy>=1.21.0 in /usr/local/lib/python3.10/dist-packages (from pandas->codecarbon) (1.22.4)\n",
            "Requirement already satisfied: urllib3<1.27,>=1.21.1 in /usr/local/lib/python3.10/dist-packages (from requests->codecarbon) (1.26.16)\n",
            "Requirement already satisfied: certifi>=2017.4.17 in /usr/local/lib/python3.10/dist-packages (from requests->codecarbon) (2023.5.7)\n",
            "Requirement already satisfied: charset-normalizer~=2.0.0 in /usr/local/lib/python3.10/dist-packages (from requests->codecarbon) (2.0.12)\n",
            "Requirement already satisfied: idna<4,>=2.5 in /usr/local/lib/python3.10/dist-packages (from requests->codecarbon) (3.4)\n",
            "Requirement already satisfied: six>=1.5 in /usr/local/lib/python3.10/dist-packages (from python-dateutil>=2.7.0->arrow->codecarbon) (1.16.0)\n",
            "Installing collected packages: fuzzywuzzy, pynvml, arrow, codecarbon\n",
            "Successfully installed arrow-1.2.3 codecarbon-2.2.4 fuzzywuzzy-0.18.0 pynvml-11.5.0\n"
          ]
        }
      ],
      "source": [
        "!pip install codecarbon"
      ]
    },
    {
      "cell_type": "code",
      "execution_count": 4,
      "metadata": {
        "id": "cI3wyWPBrvu9"
      },
      "outputs": [],
      "source": [
        "import pandas as pd\n",
        "from river.stream import iter_pandas\n",
        "from river.metrics import Metrics,Accuracy,BalancedAccuracy,CohenKappa,GeometricMean\n",
        "from river.evaluate import progressive_val_score\n",
        "from codecarbon import EmissionsTracker"
      ]
    },
    {
      "cell_type": "code",
      "execution_count": 5,
      "metadata": {
        "id": "7Dd5fqCArvu-"
      },
      "outputs": [],
      "source": [
        "data = pd.read_csv(\"NEweather.csv\")\n",
        "features = data.columns[:-1]"
      ]
    },
    {
      "cell_type": "markdown",
      "metadata": {
        "id": "C-lXW9abrvu_"
      },
      "source": [
        "In this example, we load the data from a csv file with `pandas.read_csv`, and we use the [iter_pandas](https://riverml.xyz/latest/api/stream/iter-pandas/) utility method to iterate over the `DataFrame`."
      ]
    },
    {
      "cell_type": "markdown",
      "metadata": {
        "id": "K27Jvh6HrvvA"
      },
      "source": [
        "## Naïve Bayes\n",
        "---\n",
        "[GaussianNB](https://riverml.xyz/latest/api/naive-bayes/GaussianNB/) maintains a Gaussian distribution $G_{cf}$ is maintained for each class $c$ and each feature $f$. Each Gaussian is updated using the amount associated with each feature; the details can be be found in proba.Gaussian. The joint log-likelihood is then obtained by summing the log probabilities of each feature associated with each class."
      ]
    },
    {
      "cell_type": "code",
      "execution_count": 6,
      "metadata": {
        "colab": {
          "base_uri": "https://localhost:8080/"
        },
        "id": "nNhP03_GrvvB",
        "outputId": "beb247ea-d317-45f6-f774-a49348d03b6a"
      },
      "outputs": [
        {
          "output_type": "stream",
          "name": "stderr",
          "text": [
            "[codecarbon INFO @ 20:13:51] [setup] RAM Tracking...\n",
            "[codecarbon INFO @ 20:13:51] [setup] GPU Tracking...\n",
            "[codecarbon INFO @ 20:13:51] Tracking Nvidia GPU via pynvml\n",
            "[codecarbon INFO @ 20:13:51] [setup] CPU Tracking...\n",
            "[codecarbon WARNING @ 20:13:51] No CPU tracking mode found. Falling back on CPU constant mode.\n",
            "[codecarbon WARNING @ 20:13:52] We saw that you have a Intel(R) Xeon(R) CPU @ 2.20GHz but we don't know it. Please contact us.\n",
            "[codecarbon INFO @ 20:13:52] CPU Model on constant consumption mode: Intel(R) Xeon(R) CPU @ 2.20GHz\n",
            "[codecarbon INFO @ 20:13:52] >>> Tracker's metadata:\n",
            "[codecarbon INFO @ 20:13:52]   Platform system: Linux-5.15.107+-x86_64-with-glibc2.31\n",
            "[codecarbon INFO @ 20:13:52]   Python version: 3.10.12\n",
            "[codecarbon INFO @ 20:13:52]   CodeCarbon version: 2.2.4\n",
            "[codecarbon INFO @ 20:13:52]   Available RAM : 12.678 GB\n",
            "[codecarbon INFO @ 20:13:52]   CPU count: 2\n",
            "[codecarbon INFO @ 20:13:52]   CPU model: Intel(R) Xeon(R) CPU @ 2.20GHz\n",
            "[codecarbon INFO @ 20:13:52]   GPU count: 1\n",
            "[codecarbon INFO @ 20:13:52]   GPU model: 1 x Tesla T4\n",
            "[codecarbon WARNING @ 20:13:53] Unable to access geographical location. Using 'Canada' as the default value - Exception : [Errno Expecting value] <html>\n",
            "<head><title>500 Internal Server Error</title></head>\n",
            "<body>\n",
            "<center><h1>500 Internal Server Error</h1></center>\n",
            "<hr><center>openresty</center>\n",
            "</body>\n",
            "</html>\n",
            ": 0\n"
          ]
        },
        {
          "output_type": "stream",
          "name": "stdout",
          "text": [
            "[1,000] Accuracy: 71.27%\n",
            "[2,000] Accuracy: 69.88%\n",
            "[3,000] Accuracy: 68.99%\n",
            "[4,000] Accuracy: 68.82%\n",
            "[5,000] Accuracy: 69.09%\n",
            "[6,000] Accuracy: 69.13%\n",
            "[7,000] Accuracy: 69.15%\n",
            "[8,000] Accuracy: 68.50%\n",
            "[9,000] Accuracy: 68.65%\n",
            "[10,000] Accuracy: 69.04%\n",
            "[11,000] Accuracy: 69.52%\n",
            "[12,000] Accuracy: 69.74%\n",
            "[13,000] Accuracy: 69.79%\n",
            "[14,000] Accuracy: 69.88%\n",
            "[15,000] Accuracy: 70.14%\n",
            "[16,000] Accuracy: 70.05%\n",
            "[17,000] Accuracy: 69.70%\n"
          ]
        },
        {
          "output_type": "stream",
          "name": "stderr",
          "text": [
            "[codecarbon INFO @ 20:13:58] Energy consumed for RAM : 0.000007 kWh. RAM Power : 4.754396438598633 W\n",
            "[codecarbon INFO @ 20:13:58] Energy consumed for all GPUs : 0.000015 kWh. Total GPU Power : 10.754 W\n",
            "[codecarbon INFO @ 20:13:58] Energy consumed for all CPUs : 0.000060 kWh. Total CPU Power : 42.5 W\n",
            "[codecarbon INFO @ 20:13:58] 0.000082 kWh of electricity used since the beginning.\n"
          ]
        },
        {
          "output_type": "stream",
          "name": "stdout",
          "text": [
            "[18,000] Accuracy: 69.36%\n"
          ]
        },
        {
          "output_type": "execute_result",
          "data": {
            "text/plain": [
              "1.940630047744291e-07"
            ]
          },
          "metadata": {},
          "execution_count": 6
        }
      ],
      "source": [
        "from river.naive_bayes import GaussianNB\n",
        "\n",
        "tracker = EmissionsTracker()\n",
        "tracker.start()\n",
        "\n",
        "model = GaussianNB()\n",
        "metrics = Metrics(metrics=[Accuracy()])\n",
        "stream = iter_pandas(X=data[features], y=data['rain'])\n",
        "\n",
        "progressive_val_score(dataset=stream,\n",
        "                      model=model,\n",
        "                      metric=metrics,\n",
        "                      print_every=1000)\n",
        "\n",
        "tracker.stop()\n"
      ]
    },
    {
      "cell_type": "markdown",
      "metadata": {
        "id": "R4xm7NaprvvB"
      },
      "source": [
        "## K-Nearest Neighbors\n",
        "---\n",
        "[KNN](https://riverml.xyz/latest/api/neighbors/KNNClassifier/) is a non-parametric classification method that keeps track of the last window_size training samples. The predicted class-label for a given query sample is obtained in two steps:\n",
        "\n",
        "- Find the closest n_neighbors to the query sample in the data window.\n",
        "- Aggregate the class-labels of the n_neighbors to define the predicted class for the query sample."
      ]
    },
    {
      "cell_type": "code",
      "execution_count": 7,
      "metadata": {
        "colab": {
          "base_uri": "https://localhost:8080/"
        },
        "id": "toHGPrFzrvvB",
        "outputId": "ce35b296-27b0-4337-a4cd-e9f8ad708e6c"
      },
      "outputs": [
        {
          "output_type": "stream",
          "name": "stderr",
          "text": [
            "[codecarbon INFO @ 20:13:58] [setup] RAM Tracking...\n",
            "[codecarbon INFO @ 20:13:58] [setup] GPU Tracking...\n",
            "[codecarbon INFO @ 20:13:58] Tracking Nvidia GPU via pynvml\n",
            "[codecarbon INFO @ 20:13:58] [setup] CPU Tracking...\n",
            "[codecarbon WARNING @ 20:13:58] No CPU tracking mode found. Falling back on CPU constant mode.\n",
            "[codecarbon WARNING @ 20:13:59] We saw that you have a Intel(R) Xeon(R) CPU @ 2.20GHz but we don't know it. Please contact us.\n",
            "[codecarbon INFO @ 20:13:59] CPU Model on constant consumption mode: Intel(R) Xeon(R) CPU @ 2.20GHz\n",
            "[codecarbon INFO @ 20:13:59] >>> Tracker's metadata:\n",
            "[codecarbon INFO @ 20:13:59]   Platform system: Linux-5.15.107+-x86_64-with-glibc2.31\n",
            "[codecarbon INFO @ 20:13:59]   Python version: 3.10.12\n",
            "[codecarbon INFO @ 20:13:59]   CodeCarbon version: 2.2.4\n",
            "[codecarbon INFO @ 20:13:59]   Available RAM : 12.678 GB\n",
            "[codecarbon INFO @ 20:13:59]   CPU count: 2\n",
            "[codecarbon INFO @ 20:13:59]   CPU model: Intel(R) Xeon(R) CPU @ 2.20GHz\n",
            "[codecarbon INFO @ 20:13:59]   GPU count: 1\n",
            "[codecarbon INFO @ 20:13:59]   GPU model: 1 x Tesla T4\n",
            "[codecarbon WARNING @ 20:13:59] Unable to access geographical location. Using 'Canada' as the default value - Exception : [Errno Expecting value] <html>\n",
            "<head><title>500 Internal Server Error</title></head>\n",
            "<body>\n",
            "<center><h1>500 Internal Server Error</h1></center>\n",
            "<hr><center>openresty</center>\n",
            "</body>\n",
            "</html>\n",
            ": 0\n"
          ]
        },
        {
          "output_type": "stream",
          "name": "stdout",
          "text": [
            "[1,000] Accuracy: 77.18%\n",
            "[2,000] Accuracy: 78.34%\n",
            "[3,000] Accuracy: 78.86%\n",
            "[4,000] Accuracy: 78.29%\n",
            "[5,000] Accuracy: 78.06%\n",
            "[6,000] Accuracy: 77.95%\n",
            "[7,000] Accuracy: 78.24%\n",
            "[8,000] Accuracy: 77.96%\n",
            "[9,000] Accuracy: 78.12%\n",
            "[10,000] Accuracy: 78.16%\n",
            "[11,000] Accuracy: 78.35%\n",
            "[12,000] Accuracy: 78.47%\n",
            "[13,000] Accuracy: 78.36%\n"
          ]
        },
        {
          "output_type": "stream",
          "name": "stderr",
          "text": [
            "[codecarbon INFO @ 20:14:14] Energy consumed for RAM : 0.000020 kWh. RAM Power : 4.754396438598633 W\n",
            "[codecarbon INFO @ 20:14:14] Energy consumed for all GPUs : 0.000043 kWh. Total GPU Power : 10.357000000000001 W\n",
            "[codecarbon INFO @ 20:14:14] Energy consumed for all CPUs : 0.000177 kWh. Total CPU Power : 42.5 W\n",
            "[codecarbon INFO @ 20:14:14] 0.000240 kWh of electricity used since the beginning.\n"
          ]
        },
        {
          "output_type": "stream",
          "name": "stdout",
          "text": [
            "[14,000] Accuracy: 78.26%\n",
            "[15,000] Accuracy: 78.36%\n",
            "[16,000] Accuracy: 78.24%\n",
            "[17,000] Accuracy: 78.10%\n"
          ]
        },
        {
          "output_type": "stream",
          "name": "stderr",
          "text": [
            "[codecarbon INFO @ 20:14:17] Energy consumed for RAM : 0.000023 kWh. RAM Power : 4.754396438598633 W\n",
            "[codecarbon INFO @ 20:14:17] Energy consumed for all GPUs : 0.000050 kWh. Total GPU Power : 10.456 W\n",
            "[codecarbon INFO @ 20:14:17] Energy consumed for all CPUs : 0.000205 kWh. Total CPU Power : 42.5 W\n",
            "[codecarbon INFO @ 20:14:17] 0.000278 kWh of electricity used since the beginning.\n"
          ]
        },
        {
          "output_type": "stream",
          "name": "stdout",
          "text": [
            "[18,000] Accuracy: 77.90%\n"
          ]
        },
        {
          "output_type": "execute_result",
          "data": {
            "text/plain": [
              "6.61735034072963e-07"
            ]
          },
          "metadata": {},
          "execution_count": 7
        }
      ],
      "source": [
        "from river.neighbors import KNNClassifier\n",
        "\n",
        "tracker = EmissionsTracker()\n",
        "tracker.start()\n",
        "\n",
        "model = KNNClassifier(n_neighbors=5, window_size=1000)\n",
        "metrics = Metrics(metrics=[Accuracy()])\n",
        "stream = iter_pandas(X=data[features], y=data['rain'])\n",
        "\n",
        "progressive_val_score(dataset=stream,\n",
        "                      model=model,\n",
        "                      metric=metrics,\n",
        "                      print_every=1000)\n",
        "\n",
        "tracker.stop()"
      ]
    },
    {
      "cell_type": "markdown",
      "metadata": {
        "id": "72FMZp6MrvvC"
      },
      "source": [
        "## Hoeffding Tree\n",
        "---\n",
        "\n",
        "[Hoeffding Tree](https://riverml.xyz/latest/api/tree/HoeffdingTreeClassifier/)"
      ]
    },
    {
      "cell_type": "markdown",
      "metadata": {
        "id": "mEKs4Z4-rvvC"
      },
      "source": [
        "Tree-based models are popular due to their interpretability. They use a tree data structure to model the data. When a sample arrives, it traverses the tree until it reaches a leaf node. Internal nodes define the path for a data sample based on the values of its features. Leaf nodes are models that provide predictions for unlabeled-samples and can update their internal state using the labels from labeled samples."
      ]
    },
    {
      "cell_type": "code",
      "execution_count": 8,
      "metadata": {
        "colab": {
          "base_uri": "https://localhost:8080/"
        },
        "id": "AjRKMRRIrvvD",
        "outputId": "45352bed-3edc-4073-82fc-2f5718a22dc7"
      },
      "outputs": [
        {
          "output_type": "stream",
          "name": "stderr",
          "text": [
            "[codecarbon INFO @ 20:14:17] [setup] RAM Tracking...\n",
            "[codecarbon INFO @ 20:14:17] [setup] GPU Tracking...\n",
            "[codecarbon INFO @ 20:14:17] Tracking Nvidia GPU via pynvml\n",
            "[codecarbon INFO @ 20:14:17] [setup] CPU Tracking...\n",
            "[codecarbon WARNING @ 20:14:17] No CPU tracking mode found. Falling back on CPU constant mode.\n",
            "[codecarbon WARNING @ 20:14:18] We saw that you have a Intel(R) Xeon(R) CPU @ 2.20GHz but we don't know it. Please contact us.\n",
            "[codecarbon INFO @ 20:14:18] CPU Model on constant consumption mode: Intel(R) Xeon(R) CPU @ 2.20GHz\n",
            "[codecarbon INFO @ 20:14:18] >>> Tracker's metadata:\n",
            "[codecarbon INFO @ 20:14:18]   Platform system: Linux-5.15.107+-x86_64-with-glibc2.31\n",
            "[codecarbon INFO @ 20:14:18]   Python version: 3.10.12\n",
            "[codecarbon INFO @ 20:14:18]   CodeCarbon version: 2.2.4\n",
            "[codecarbon INFO @ 20:14:18]   Available RAM : 12.678 GB\n",
            "[codecarbon INFO @ 20:14:18]   CPU count: 2\n",
            "[codecarbon INFO @ 20:14:18]   CPU model: Intel(R) Xeon(R) CPU @ 2.20GHz\n",
            "[codecarbon INFO @ 20:14:18]   GPU count: 1\n",
            "[codecarbon INFO @ 20:14:18]   GPU model: 1 x Tesla T4\n",
            "[codecarbon WARNING @ 20:14:19] Unable to access geographical location. Using 'Canada' as the default value - Exception : [Errno Expecting value] <html>\n",
            "<head><title>500 Internal Server Error</title></head>\n",
            "<body>\n",
            "<center><h1>500 Internal Server Error</h1></center>\n",
            "<hr><center>openresty</center>\n",
            "</body>\n",
            "</html>\n",
            ": 0\n"
          ]
        },
        {
          "output_type": "stream",
          "name": "stdout",
          "text": [
            "[1,000] Accuracy: 70.87%\n",
            "[2,000] Accuracy: 69.73%\n",
            "[3,000] Accuracy: 70.89%\n",
            "[4,000] Accuracy: 71.29%\n",
            "[5,000] Accuracy: 71.79%\n",
            "[6,000] Accuracy: 72.13%\n",
            "[7,000] Accuracy: 72.82%\n",
            "[8,000] Accuracy: 72.58%\n",
            "[9,000] Accuracy: 72.80%\n",
            "[10,000] Accuracy: 72.85%\n",
            "[11,000] Accuracy: 73.30%\n",
            "[12,000] Accuracy: 73.55%\n",
            "[13,000] Accuracy: 73.80%\n",
            "[14,000] Accuracy: 73.73%\n",
            "[15,000] Accuracy: 73.99%\n",
            "[16,000] Accuracy: 74.03%\n",
            "[17,000] Accuracy: 73.93%\n"
          ]
        },
        {
          "output_type": "stream",
          "name": "stderr",
          "text": [
            "[codecarbon INFO @ 20:14:23] Energy consumed for RAM : 0.000006 kWh. RAM Power : 4.754396438598633 W\n",
            "[codecarbon INFO @ 20:14:23] Energy consumed for all GPUs : 0.000013 kWh. Total GPU Power : 10.456 W\n",
            "[codecarbon INFO @ 20:14:23] Energy consumed for all CPUs : 0.000052 kWh. Total CPU Power : 42.5 W\n",
            "[codecarbon INFO @ 20:14:23] 0.000070 kWh of electricity used since the beginning.\n"
          ]
        },
        {
          "output_type": "stream",
          "name": "stdout",
          "text": [
            "[18,000] Accuracy: 73.58%\n"
          ]
        },
        {
          "output_type": "execute_result",
          "data": {
            "text/plain": [
              "1.6725079984596167e-07"
            ]
          },
          "metadata": {},
          "execution_count": 8
        }
      ],
      "source": [
        "from river.tree import HoeffdingTreeClassifier\n",
        "\n",
        "tracker = EmissionsTracker()\n",
        "tracker.start()\n",
        "\n",
        "model = HoeffdingTreeClassifier()\n",
        "metrics = Metrics(metrics=[Accuracy()])\n",
        "stream = iter_pandas(X=data[features], y=data['rain'])\n",
        "\n",
        "progressive_val_score(dataset=stream,\n",
        "                      model=model,\n",
        "                      metric=metrics,\n",
        "                      print_every=1000)\n",
        "\n",
        "tracker.stop()"
      ]
    },
    {
      "cell_type": "markdown",
      "metadata": {
        "id": "o8suZTgzrvvE"
      },
      "source": [
        "## Hoeffding Adaptive Tree\n",
        "---\n",
        "The [HAT](https://riverml.xyz/latest/api/tree/HoeffdingAdaptiveTreeClassifier/) model uses `ADWIN` to detect changes. If change is detected in a given branch, an alternate branch is created and eventually replaces the original branch if it shows better performance on new data."
      ]
    },
    {
      "cell_type": "code",
      "execution_count": 9,
      "metadata": {
        "colab": {
          "base_uri": "https://localhost:8080/"
        },
        "id": "elslOR_8rvvE",
        "outputId": "3c0315db-68ac-4574-d13d-3e9631ab3e6d"
      },
      "outputs": [
        {
          "output_type": "stream",
          "name": "stderr",
          "text": [
            "[codecarbon INFO @ 20:14:23] [setup] RAM Tracking...\n",
            "[codecarbon INFO @ 20:14:23] [setup] GPU Tracking...\n",
            "[codecarbon INFO @ 20:14:23] Tracking Nvidia GPU via pynvml\n",
            "[codecarbon INFO @ 20:14:23] [setup] CPU Tracking...\n",
            "[codecarbon WARNING @ 20:14:23] No CPU tracking mode found. Falling back on CPU constant mode.\n",
            "[codecarbon WARNING @ 20:14:25] We saw that you have a Intel(R) Xeon(R) CPU @ 2.20GHz but we don't know it. Please contact us.\n",
            "[codecarbon INFO @ 20:14:25] CPU Model on constant consumption mode: Intel(R) Xeon(R) CPU @ 2.20GHz\n",
            "[codecarbon INFO @ 20:14:25] >>> Tracker's metadata:\n",
            "[codecarbon INFO @ 20:14:25]   Platform system: Linux-5.15.107+-x86_64-with-glibc2.31\n",
            "[codecarbon INFO @ 20:14:25]   Python version: 3.10.12\n",
            "[codecarbon INFO @ 20:14:25]   CodeCarbon version: 2.2.4\n",
            "[codecarbon INFO @ 20:14:25]   Available RAM : 12.678 GB\n",
            "[codecarbon INFO @ 20:14:25]   CPU count: 2\n",
            "[codecarbon INFO @ 20:14:25]   CPU model: Intel(R) Xeon(R) CPU @ 2.20GHz\n",
            "[codecarbon INFO @ 20:14:25]   GPU count: 1\n",
            "[codecarbon INFO @ 20:14:25]   GPU model: 1 x Tesla T4\n",
            "[codecarbon WARNING @ 20:14:25] Unable to access geographical location. Using 'Canada' as the default value - Exception : [Errno Expecting value] <html>\n",
            "<head><title>500 Internal Server Error</title></head>\n",
            "<body>\n",
            "<center><h1>500 Internal Server Error</h1></center>\n",
            "<hr><center>openresty</center>\n",
            "</body>\n",
            "</html>\n",
            ": 0\n"
          ]
        },
        {
          "output_type": "stream",
          "name": "stdout",
          "text": [
            "[1,000] Accuracy: 68.37%\n",
            "[2,000] Accuracy: 69.48%\n",
            "[3,000] Accuracy: 71.09%\n",
            "[4,000] Accuracy: 72.02%\n",
            "[5,000] Accuracy: 72.85%\n",
            "[6,000] Accuracy: 73.33%\n",
            "[7,000] Accuracy: 73.91%\n",
            "[8,000] Accuracy: 73.51%\n",
            "[9,000] Accuracy: 73.81%\n",
            "[10,000] Accuracy: 73.85%\n",
            "[11,000] Accuracy: 74.03%\n",
            "[12,000] Accuracy: 74.16%\n",
            "[13,000] Accuracy: 74.14%\n",
            "[14,000] Accuracy: 73.96%\n",
            "[15,000] Accuracy: 74.28%\n",
            "[16,000] Accuracy: 74.34%\n"
          ]
        },
        {
          "output_type": "stream",
          "name": "stderr",
          "text": [
            "[codecarbon INFO @ 20:14:32] Energy consumed for RAM : 0.000009 kWh. RAM Power : 4.754396438598633 W\n",
            "[codecarbon INFO @ 20:14:32] Energy consumed for all GPUs : 0.000021 kWh. Total GPU Power : 10.456 W\n",
            "[codecarbon INFO @ 20:14:32] Energy consumed for all CPUs : 0.000084 kWh. Total CPU Power : 42.5 W\n",
            "[codecarbon INFO @ 20:14:32] 0.000114 kWh of electricity used since the beginning.\n"
          ]
        },
        {
          "output_type": "stream",
          "name": "stdout",
          "text": [
            "[17,000] Accuracy: 74.12%\n",
            "[18,000] Accuracy: 73.60%\n"
          ]
        },
        {
          "output_type": "execute_result",
          "data": {
            "text/plain": [
              "2.7102453901552257e-07"
            ]
          },
          "metadata": {},
          "execution_count": 9
        }
      ],
      "source": [
        "from river.tree import HoeffdingAdaptiveTreeClassifier\n",
        "\n",
        "tracker = EmissionsTracker()\n",
        "tracker.start()\n",
        "\n",
        "model = HoeffdingAdaptiveTreeClassifier(seed=42)\n",
        "metrics = Metrics(metrics=[Accuracy()])\n",
        "stream = iter_pandas(X=data[features], y=data['rain'])\n",
        "\n",
        "progressive_val_score(dataset=stream,\n",
        "                      model=model,\n",
        "                      metric=metrics,\n",
        "                      print_every=1000)\n",
        "\n",
        "tracker.stop()"
      ]
    },
    {
      "cell_type": "markdown",
      "metadata": {
        "id": "vGgj6YarrvvE"
      },
      "source": [
        "## Concept Drift Impact\n",
        "\n",
        "Concept drift can negatively impact learning methods if not properly handled. Multiple real-world applications suffer **model degradation** as the models can not adapt to changes in the data.\n",
        "\n",
        "---\n",
        "## `AGRAWAL` dataset\n",
        "\n",
        "We will load the data from a csv file. The data was generated using the `AGRAWAL` data generator with 3 **gradual drifts** at the 5k, 10k, and 15k marks. It contains 9 features, 6 numeric and 3 categorical.\n",
        "\n",
        "There are 10 functions for generating binary class labels from the features. These functions determine whether a **loan** should be approved.\n",
        "\n",
        "| Feature    | Description            | Values                                                                |\n",
        "|------------|------------------------|-----------------------------------------------------------------------|\n",
        "| `salary`     | salary                 | uniformly distributed from 20k to 150k                                |\n",
        "| `commission` | commission             | if (salary <   75k) then 0 else uniformly distributed from 10k to 75k |\n",
        "| `age`        | age                    | uniformly distributed from 20 to 80                                   |\n",
        "| `elevel`     | education level        | uniformly chosen from 0 to 4                                          |\n",
        "| `car`        | car maker              | uniformly chosen from 1 to 20                                         |\n",
        "| `zipcode`    | zip code of the town   | uniformly chosen from 0 to 8                                          |\n",
        "| `hvalue`     | value of the house     | uniformly distributed from 50k x zipcode to 100k x zipcode            |\n",
        "| `hyears`     | years house owned      | uniformly distributed from 1 to 30                                    |\n",
        "| `loan`       | total loan amount      | uniformly distributed from 0 to 500k                                  |\n",
        "\n",
        "**Class:** `y` | 0: no loan, 1: loan\n",
        "\n",
        "**Samples:** 20,000\n",
        "\n",
        "`elevel`, `car`, and `zipcode` are categorical features."
      ]
    },
    {
      "cell_type": "code",
      "execution_count": 10,
      "metadata": {
        "id": "FI4tv7VBrvvF"
      },
      "outputs": [],
      "source": [
        "data = pd.read_csv(\"agr_a_20k.csv\")\n",
        "features = data.columns[:-1]"
      ]
    },
    {
      "cell_type": "markdown",
      "metadata": {
        "id": "yF9PkmWBrvvF"
      },
      "source": [
        "## Naïve Bayes"
      ]
    },
    {
      "cell_type": "code",
      "execution_count": 11,
      "metadata": {
        "colab": {
          "base_uri": "https://localhost:8080/"
        },
        "id": "gMqHmmfqrvvG",
        "outputId": "35b9e53c-1e3e-40eb-a2fc-fad52f7439ff"
      },
      "outputs": [
        {
          "output_type": "stream",
          "name": "stderr",
          "text": [
            "[codecarbon INFO @ 20:14:32] [setup] RAM Tracking...\n",
            "[codecarbon INFO @ 20:14:32] [setup] GPU Tracking...\n",
            "[codecarbon INFO @ 20:14:32] Tracking Nvidia GPU via pynvml\n",
            "[codecarbon INFO @ 20:14:32] [setup] CPU Tracking...\n",
            "[codecarbon WARNING @ 20:14:32] No CPU tracking mode found. Falling back on CPU constant mode.\n",
            "[codecarbon WARNING @ 20:14:34] We saw that you have a Intel(R) Xeon(R) CPU @ 2.20GHz but we don't know it. Please contact us.\n",
            "[codecarbon INFO @ 20:14:34] CPU Model on constant consumption mode: Intel(R) Xeon(R) CPU @ 2.20GHz\n",
            "[codecarbon INFO @ 20:14:34] >>> Tracker's metadata:\n",
            "[codecarbon INFO @ 20:14:34]   Platform system: Linux-5.15.107+-x86_64-with-glibc2.31\n",
            "[codecarbon INFO @ 20:14:34]   Python version: 3.10.12\n",
            "[codecarbon INFO @ 20:14:34]   CodeCarbon version: 2.2.4\n",
            "[codecarbon INFO @ 20:14:34]   Available RAM : 12.678 GB\n",
            "[codecarbon INFO @ 20:14:34]   CPU count: 2\n",
            "[codecarbon INFO @ 20:14:34]   CPU model: Intel(R) Xeon(R) CPU @ 2.20GHz\n",
            "[codecarbon INFO @ 20:14:34]   GPU count: 1\n",
            "[codecarbon INFO @ 20:14:34]   GPU model: 1 x Tesla T4\n",
            "[codecarbon WARNING @ 20:14:34] Unable to access geographical location. Using 'Canada' as the default value - Exception : [Errno Expecting value] <html>\n",
            "<head><title>500 Internal Server Error</title></head>\n",
            "<body>\n",
            "<center><h1>500 Internal Server Error</h1></center>\n",
            "<hr><center>openresty</center>\n",
            "</body>\n",
            "</html>\n",
            ": 0\n"
          ]
        },
        {
          "output_type": "stream",
          "name": "stdout",
          "text": [
            "[1,000] Accuracy: 83.98%\n",
            "[2,000] Accuracy: 86.29%\n",
            "[3,000] Accuracy: 87.00%\n",
            "[4,000] Accuracy: 87.55%\n",
            "[5,000] Accuracy: 87.42%\n",
            "[6,000] Accuracy: 80.50%\n",
            "[7,000] Accuracy: 74.71%\n",
            "[8,000] Accuracy: 70.87%\n",
            "[9,000] Accuracy: 68.01%\n",
            "[10,000] Accuracy: 66.25%\n",
            "[11,000] Accuracy: 66.75%\n",
            "[12,000] Accuracy: 67.30%\n",
            "[13,000] Accuracy: 67.96%\n",
            "[14,000] Accuracy: 68.74%\n",
            "[15,000] Accuracy: 69.29%\n",
            "[16,000] Accuracy: 68.33%\n",
            "[17,000] Accuracy: 67.45%\n",
            "[18,000] Accuracy: 66.90%\n",
            "[19,000] Accuracy: 66.32%\n"
          ]
        },
        {
          "output_type": "stream",
          "name": "stderr",
          "text": [
            "[codecarbon INFO @ 20:14:40] Energy consumed for RAM : 0.000007 kWh. RAM Power : 4.754396438598633 W\n",
            "[codecarbon INFO @ 20:14:40] Energy consumed for all GPUs : 0.000016 kWh. Total GPU Power : 10.456 W\n",
            "[codecarbon INFO @ 20:14:40] Energy consumed for all CPUs : 0.000066 kWh. Total CPU Power : 42.5 W\n",
            "[codecarbon INFO @ 20:14:40] 0.000090 kWh of electricity used since the beginning.\n"
          ]
        },
        {
          "output_type": "stream",
          "name": "stdout",
          "text": [
            "[20,000] Accuracy: 65.94%\n"
          ]
        },
        {
          "output_type": "execute_result",
          "data": {
            "text/plain": [
              "2.1316725506739618e-07"
            ]
          },
          "metadata": {},
          "execution_count": 11
        }
      ],
      "source": [
        "from river.naive_bayes import GaussianNB\n",
        "\n",
        "tracker = EmissionsTracker()\n",
        "tracker.start()\n",
        "\n",
        "model = GaussianNB()\n",
        "metrics = Metrics(metrics=[Accuracy()])\n",
        "stream = iter_pandas(X=data[features], y=data['class'])\n",
        "\n",
        "progressive_val_score(dataset=stream,\n",
        "                      model=model,\n",
        "                      metric=metrics,\n",
        "                      print_every=1000)\n",
        "\n",
        "tracker.stop()"
      ]
    },
    {
      "cell_type": "markdown",
      "metadata": {
        "id": "plihpBqlrvvG"
      },
      "source": [
        "## KNN with ADWIN\n",
        "---\n",
        "\n",
        "This classifier is an improvement from the regular kNN method, as it is resistant to concept drift. It uses the ADWIN change detector to decide which samples to keep and which ones to forget, and by doing so it regulates the sample window size."
      ]
    },
    {
      "cell_type": "code",
      "execution_count": 12,
      "metadata": {
        "colab": {
          "base_uri": "https://localhost:8080/"
        },
        "id": "qDrUlX6-rvvG",
        "outputId": "447a1ef6-76fa-4c61-8622-90c7f51b5ab2"
      },
      "outputs": [
        {
          "output_type": "stream",
          "name": "stderr",
          "text": [
            "[codecarbon INFO @ 20:14:40] [setup] RAM Tracking...\n",
            "[codecarbon INFO @ 20:14:40] [setup] GPU Tracking...\n",
            "[codecarbon INFO @ 20:14:40] Tracking Nvidia GPU via pynvml\n",
            "[codecarbon INFO @ 20:14:40] [setup] CPU Tracking...\n",
            "[codecarbon WARNING @ 20:14:40] No CPU tracking mode found. Falling back on CPU constant mode.\n",
            "[codecarbon WARNING @ 20:14:41] We saw that you have a Intel(R) Xeon(R) CPU @ 2.20GHz but we don't know it. Please contact us.\n",
            "[codecarbon INFO @ 20:14:41] CPU Model on constant consumption mode: Intel(R) Xeon(R) CPU @ 2.20GHz\n",
            "[codecarbon INFO @ 20:14:41] >>> Tracker's metadata:\n",
            "[codecarbon INFO @ 20:14:41]   Platform system: Linux-5.15.107+-x86_64-with-glibc2.31\n",
            "[codecarbon INFO @ 20:14:41]   Python version: 3.10.12\n",
            "[codecarbon INFO @ 20:14:41]   CodeCarbon version: 2.2.4\n",
            "[codecarbon INFO @ 20:14:41]   Available RAM : 12.678 GB\n",
            "[codecarbon INFO @ 20:14:41]   CPU count: 2\n",
            "[codecarbon INFO @ 20:14:41]   CPU model: Intel(R) Xeon(R) CPU @ 2.20GHz\n",
            "[codecarbon INFO @ 20:14:41]   GPU count: 1\n",
            "[codecarbon INFO @ 20:14:41]   GPU model: 1 x Tesla T4\n",
            "[codecarbon WARNING @ 20:14:41] Unable to access geographical location. Using 'Canada' as the default value - Exception : [Errno Expecting value] <html>\n",
            "<head><title>500 Internal Server Error</title></head>\n",
            "<body>\n",
            "<center><h1>500 Internal Server Error</h1></center>\n",
            "<hr><center>openresty</center>\n",
            "</body>\n",
            "</html>\n",
            ": 0\n"
          ]
        },
        {
          "output_type": "stream",
          "name": "stdout",
          "text": [
            "[1,000] Accuracy: 58.16%\n",
            "[2,000] Accuracy: 58.08%\n",
            "[3,000] Accuracy: 58.72%\n",
            "[4,000] Accuracy: 59.56%\n",
            "[5,000] Accuracy: 59.99%\n",
            "[6,000] Accuracy: 59.46%\n",
            "[7,000] Accuracy: 60.55%\n",
            "[8,000] Accuracy: 61.30%\n",
            "[9,000] Accuracy: 61.98%\n",
            "[10,000] Accuracy: 62.32%\n",
            "[11,000] Accuracy: 61.23%\n",
            "[12,000] Accuracy: 60.97%\n",
            "[13,000] Accuracy: 60.88%\n",
            "[14,000] Accuracy: 60.97%\n",
            "[15,000] Accuracy: 61.00%\n",
            "[16,000] Accuracy: 61.25%\n"
          ]
        },
        {
          "output_type": "stream",
          "name": "stderr",
          "text": [
            "[codecarbon INFO @ 20:14:56] Energy consumed for RAM : 0.000020 kWh. RAM Power : 4.754396438598633 W\n",
            "[codecarbon INFO @ 20:14:56] Energy consumed for all GPUs : 0.000044 kWh. Total GPU Power : 10.556000000000001 W\n",
            "[codecarbon INFO @ 20:14:56] Energy consumed for all CPUs : 0.000177 kWh. Total CPU Power : 42.5 W\n",
            "[codecarbon INFO @ 20:14:56] 0.000241 kWh of electricity used since the beginning.\n"
          ]
        },
        {
          "output_type": "stream",
          "name": "stdout",
          "text": [
            "[17,000] Accuracy: 62.22%\n",
            "[18,000] Accuracy: 63.09%\n",
            "[19,000] Accuracy: 63.80%\n"
          ]
        },
        {
          "output_type": "stream",
          "name": "stderr",
          "text": [
            "[codecarbon INFO @ 20:14:59] Energy consumed for RAM : 0.000024 kWh. RAM Power : 4.754396438598633 W\n",
            "[codecarbon INFO @ 20:14:59] Energy consumed for all GPUs : 0.000053 kWh. Total GPU Power : 10.456 W\n",
            "[codecarbon INFO @ 20:14:59] Energy consumed for all CPUs : 0.000213 kWh. Total CPU Power : 42.5 W\n",
            "[codecarbon INFO @ 20:14:59] 0.000290 kWh of electricity used since the beginning.\n"
          ]
        },
        {
          "output_type": "stream",
          "name": "stdout",
          "text": [
            "[20,000] Accuracy: 64.41%\n"
          ]
        },
        {
          "output_type": "execute_result",
          "data": {
            "text/plain": [
              "6.89409982708149e-07"
            ]
          },
          "metadata": {},
          "execution_count": 12
        }
      ],
      "source": [
        "from river.neighbors import KNNADWINClassifier\n",
        "from river import compose\n",
        "\n",
        "tracker = EmissionsTracker()\n",
        "tracker.start()\n",
        "\n",
        "model = (\n",
        "    compose.Discard('elevel', 'car', 'zipcode') |\n",
        "    KNNADWINClassifier(n_neighbors=5, window_size=1000)\n",
        ")\n",
        "metrics = Metrics(metrics=[Accuracy()])\n",
        "stream = iter_pandas(X=data[features], y=data['class'])\n",
        "\n",
        "progressive_val_score(dataset=stream,\n",
        "                      model=model,\n",
        "                      metric=metrics,\n",
        "                      print_every=1000)\n",
        "\n",
        "tracker.stop()"
      ]
    },
    {
      "cell_type": "markdown",
      "metadata": {
        "id": "N6MmrKETrvvH"
      },
      "source": [
        "## Hoeffding Tree"
      ]
    },
    {
      "cell_type": "code",
      "execution_count": 13,
      "metadata": {
        "colab": {
          "base_uri": "https://localhost:8080/"
        },
        "id": "piIyOcv0rvvH",
        "outputId": "e8a9b888-2e8c-4d35-aff0-fd998ba93c46"
      },
      "outputs": [
        {
          "output_type": "stream",
          "name": "stderr",
          "text": [
            "[codecarbon INFO @ 20:14:59] [setup] RAM Tracking...\n",
            "[codecarbon INFO @ 20:14:59] [setup] GPU Tracking...\n",
            "[codecarbon INFO @ 20:14:59] Tracking Nvidia GPU via pynvml\n",
            "[codecarbon INFO @ 20:14:59] [setup] CPU Tracking...\n",
            "[codecarbon WARNING @ 20:14:59] No CPU tracking mode found. Falling back on CPU constant mode.\n",
            "[codecarbon WARNING @ 20:15:01] We saw that you have a Intel(R) Xeon(R) CPU @ 2.20GHz but we don't know it. Please contact us.\n",
            "[codecarbon INFO @ 20:15:01] CPU Model on constant consumption mode: Intel(R) Xeon(R) CPU @ 2.20GHz\n",
            "[codecarbon INFO @ 20:15:01] >>> Tracker's metadata:\n",
            "[codecarbon INFO @ 20:15:01]   Platform system: Linux-5.15.107+-x86_64-with-glibc2.31\n",
            "[codecarbon INFO @ 20:15:01]   Python version: 3.10.12\n",
            "[codecarbon INFO @ 20:15:01]   CodeCarbon version: 2.2.4\n",
            "[codecarbon INFO @ 20:15:01]   Available RAM : 12.678 GB\n",
            "[codecarbon INFO @ 20:15:01]   CPU count: 2\n",
            "[codecarbon INFO @ 20:15:01]   CPU model: Intel(R) Xeon(R) CPU @ 2.20GHz\n",
            "[codecarbon INFO @ 20:15:01]   GPU count: 1\n",
            "[codecarbon INFO @ 20:15:01]   GPU model: 1 x Tesla T4\n",
            "[codecarbon WARNING @ 20:15:01] Unable to access geographical location. Using 'Canada' as the default value - Exception : [Errno Expecting value] <html>\n",
            "<head><title>500 Internal Server Error</title></head>\n",
            "<body>\n",
            "<center><h1>500 Internal Server Error</h1></center>\n",
            "<hr><center>openresty</center>\n",
            "</body>\n",
            "</html>\n",
            ": 0\n"
          ]
        },
        {
          "output_type": "stream",
          "name": "stdout",
          "text": [
            "[1,000] Accuracy: 82.18%\n",
            "[2,000] Accuracy: 82.79%\n",
            "[3,000] Accuracy: 84.63%\n",
            "[4,000] Accuracy: 86.27%\n",
            "[5,000] Accuracy: 87.08%\n",
            "[6,000] Accuracy: 80.76%\n",
            "[7,000] Accuracy: 76.87%\n",
            "[8,000] Accuracy: 74.67%\n",
            "[9,000] Accuracy: 74.14%\n",
            "[10,000] Accuracy: 74.41%\n",
            "[11,000] Accuracy: 73.54%\n",
            "[12,000] Accuracy: 73.48%\n",
            "[13,000] Accuracy: 73.84%\n",
            "[14,000] Accuracy: 74.56%\n",
            "[15,000] Accuracy: 75.55%\n",
            "[16,000] Accuracy: 74.16%\n",
            "[17,000] Accuracy: 73.17%\n",
            "[18,000] Accuracy: 72.73%\n",
            "[19,000] Accuracy: 72.42%\n"
          ]
        },
        {
          "output_type": "stream",
          "name": "stderr",
          "text": [
            "[codecarbon INFO @ 20:15:06] Energy consumed for RAM : 0.000007 kWh. RAM Power : 4.754396438598633 W\n",
            "[codecarbon INFO @ 20:15:06] Energy consumed for all GPUs : 0.000015 kWh. Total GPU Power : 10.357000000000001 W\n",
            "[codecarbon INFO @ 20:15:06] Energy consumed for all CPUs : 0.000062 kWh. Total CPU Power : 42.5 W\n",
            "[codecarbon INFO @ 20:15:06] 0.000085 kWh of electricity used since the beginning.\n"
          ]
        },
        {
          "output_type": "stream",
          "name": "stdout",
          "text": [
            "[20,000] Accuracy: 72.28%\n"
          ]
        },
        {
          "output_type": "execute_result",
          "data": {
            "text/plain": [
              "2.0104779522657926e-07"
            ]
          },
          "metadata": {},
          "execution_count": 13
        }
      ],
      "source": [
        "from river.tree import HoeffdingTreeClassifier\n",
        "\n",
        "tracker = EmissionsTracker()\n",
        "tracker.start()\n",
        "\n",
        "model = HoeffdingTreeClassifier(nominal_attributes=['elevel', 'car', 'zipcode'])\n",
        "metrics = Metrics(metrics=[Accuracy()])\n",
        "stream = iter_pandas(X=data[features], y=data['class'])\n",
        "\n",
        "progressive_val_score(dataset=stream,\n",
        "                      model=model,\n",
        "                      metric=metrics,\n",
        "                      print_every=1000)\n",
        "\n",
        "tracker.stop()"
      ]
    },
    {
      "cell_type": "markdown",
      "metadata": {
        "id": "PVmX_ZmqrvvH"
      },
      "source": [
        "## Hoeffding Adaptive Tree"
      ]
    },
    {
      "cell_type": "code",
      "execution_count": 14,
      "metadata": {
        "colab": {
          "base_uri": "https://localhost:8080/"
        },
        "id": "DZiaG3JMrvvH",
        "outputId": "27d69d58-d0f1-4868-c54b-b213a2584eb6"
      },
      "outputs": [
        {
          "output_type": "stream",
          "name": "stderr",
          "text": [
            "[codecarbon INFO @ 20:15:06] [setup] RAM Tracking...\n",
            "[codecarbon INFO @ 20:15:06] [setup] GPU Tracking...\n",
            "[codecarbon INFO @ 20:15:06] Tracking Nvidia GPU via pynvml\n",
            "[codecarbon INFO @ 20:15:06] [setup] CPU Tracking...\n",
            "[codecarbon WARNING @ 20:15:06] No CPU tracking mode found. Falling back on CPU constant mode.\n",
            "[codecarbon WARNING @ 20:15:08] We saw that you have a Intel(R) Xeon(R) CPU @ 2.20GHz but we don't know it. Please contact us.\n",
            "[codecarbon INFO @ 20:15:08] CPU Model on constant consumption mode: Intel(R) Xeon(R) CPU @ 2.20GHz\n",
            "[codecarbon INFO @ 20:15:08] >>> Tracker's metadata:\n",
            "[codecarbon INFO @ 20:15:08]   Platform system: Linux-5.15.107+-x86_64-with-glibc2.31\n",
            "[codecarbon INFO @ 20:15:08]   Python version: 3.10.12\n",
            "[codecarbon INFO @ 20:15:08]   CodeCarbon version: 2.2.4\n",
            "[codecarbon INFO @ 20:15:08]   Available RAM : 12.678 GB\n",
            "[codecarbon INFO @ 20:15:08]   CPU count: 2\n",
            "[codecarbon INFO @ 20:15:08]   CPU model: Intel(R) Xeon(R) CPU @ 2.20GHz\n",
            "[codecarbon INFO @ 20:15:08]   GPU count: 1\n",
            "[codecarbon INFO @ 20:15:08]   GPU model: 1 x Tesla T4\n",
            "[codecarbon WARNING @ 20:15:08] Unable to access geographical location. Using 'Canada' as the default value - Exception : [Errno Expecting value] <html>\n",
            "<head><title>500 Internal Server Error</title></head>\n",
            "<body>\n",
            "<center><h1>500 Internal Server Error</h1></center>\n",
            "<hr><center>openresty</center>\n",
            "</body>\n",
            "</html>\n",
            ": 0\n"
          ]
        },
        {
          "output_type": "stream",
          "name": "stdout",
          "text": [
            "[1,000] Accuracy: 84.38%\n",
            "[2,000] Accuracy: 87.84%\n",
            "[3,000] Accuracy: 89.03%\n",
            "[4,000] Accuracy: 90.30%\n",
            "[5,000] Accuracy: 90.74%\n",
            "[6,000] Accuracy: 84.38%\n",
            "[7,000] Accuracy: 81.33%\n",
            "[8,000] Accuracy: 79.51%\n",
            "[9,000] Accuracy: 78.25%\n",
            "[10,000] Accuracy: 77.10%\n",
            "[11,000] Accuracy: 75.24%\n",
            "[12,000] Accuracy: 74.58%\n",
            "[13,000] Accuracy: 75.38%\n",
            "[14,000] Accuracy: 76.71%\n",
            "[15,000] Accuracy: 77.75%\n",
            "[16,000] Accuracy: 76.36%\n",
            "[17,000] Accuracy: 76.38%\n",
            "[18,000] Accuracy: 76.60%\n",
            "[19,000] Accuracy: 76.79%\n"
          ]
        },
        {
          "output_type": "stream",
          "name": "stderr",
          "text": [
            "[codecarbon INFO @ 20:15:15] Energy consumed for RAM : 0.000009 kWh. RAM Power : 4.754396438598633 W\n",
            "[codecarbon INFO @ 20:15:15] Energy consumed for all GPUs : 0.000020 kWh. Total GPU Power : 10.258000000000001 W\n",
            "[codecarbon INFO @ 20:15:15] Energy consumed for all CPUs : 0.000081 kWh. Total CPU Power : 42.5 W\n",
            "[codecarbon INFO @ 20:15:15] 0.000110 kWh of electricity used since the beginning.\n"
          ]
        },
        {
          "output_type": "stream",
          "name": "stdout",
          "text": [
            "[20,000] Accuracy: 76.91%\n"
          ]
        },
        {
          "output_type": "execute_result",
          "data": {
            "text/plain": [
              "2.618318779121877e-07"
            ]
          },
          "metadata": {},
          "execution_count": 14
        }
      ],
      "source": [
        "from river.tree import HoeffdingAdaptiveTreeClassifier\n",
        "\n",
        "tracker = EmissionsTracker()\n",
        "tracker.start()\n",
        "\n",
        "model = HoeffdingAdaptiveTreeClassifier(nominal_attributes=['elevel', 'car', 'zipcode'], seed=42)\n",
        "metrics = Metrics(metrics=[Accuracy()])\n",
        "stream = iter_pandas(X=data[features], y=data['class'])\n",
        "\n",
        "progressive_val_score(dataset=stream,\n",
        "                      model=model,\n",
        "                      metric=metrics,\n",
        "                      print_every=1000)\n",
        "\n",
        "tracker.stop()"
      ]
    }
  ],
  "metadata": {
    "colab": {
      "provenance": [],
      "gpuType": "T4",
      "include_colab_link": true
    },
    "kernelspec": {
      "display_name": "Python 3",
      "name": "python3"
    },
    "language_info": {
      "codemirror_mode": {
        "name": "ipython",
        "version": 3
      },
      "file_extension": ".py",
      "mimetype": "text/x-python",
      "name": "python",
      "nbconvert_exporter": "python",
      "pygments_lexer": "ipython3",
      "version": "3.8.8"
    },
    "accelerator": "GPU"
  },
  "nbformat": 4,
  "nbformat_minor": 0
}