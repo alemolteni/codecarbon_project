{
  "cells": [
    {
      "cell_type": "markdown",
      "metadata": {
        "id": "view-in-github",
        "colab_type": "text"
      },
      "source": [
        "<a href=\"https://colab.research.google.com/github/alemolteni/codecarbon_project/blob/main/4_0_Stream_Ensemble_Classification_codecarbon.ipynb\" target=\"_parent\"><img src=\"https://colab.research.google.com/assets/colab-badge.svg\" alt=\"Open In Colab\"/></a>"
      ]
    },
    {
      "cell_type": "markdown",
      "metadata": {
        "id": "amR2IurWPSv6"
      },
      "source": [
        "# Stream Ensemble Classification\n",
        "---\n",
        "\n",
        "## `NEWeather` dataset\n",
        "\n",
        "**Description:** The National Oceanic and Atmospheric Administration (NOAA),\n",
        "has compiled a database of weather measurements from over 7,000 weather\n",
        "stations worldwide. Records date back to the mid-1900s. Daily measurements\n",
        "include a variety of features (temperature, pressure, wind speed, etc.) as\n",
        "well as a series of indicators for precipitation and other weather-related\n",
        "events. The `NEweather` dataset contains data from this database, specifically\n",
        "from the Offutt Air Force Base in Bellevue, Nebraska ranging for over 50 years\n",
        "(1949-1999).\n",
        "\n",
        "**Features:** 8 Daily weather measurements\n",
        "\n",
        "|       Attribute      | Description |\n",
        "|:--------------------:|:-----------------------------|\n",
        "| `temp`                   | Temperature\n",
        "| `dew_pnt`                | Dew Point\n",
        "| `sea_lvl_press`          | Sea Level Pressure\n",
        "| `visibility`             | Visibility\n",
        "| `avg_wind_spd`           | Average Wind Speed\n",
        "| `max_sustained_wind_spd` | Maximum Sustained Wind Speed\n",
        "| `max_temp`               | Maximum Temperature\n",
        "| `min_temp`               | Minimum Temperature\n",
        "\n",
        "\n",
        "**Class:** `rain` | 0: no rain, 1: rain\n",
        "\n",
        "**Samples:** 18,159\n"
      ]
    },
    {
      "cell_type": "code",
      "execution_count": null,
      "metadata": {
        "colab": {
          "base_uri": "https://localhost:8080/"
        },
        "id": "4iCbDyYTR5am",
        "outputId": "3cddf3bb-6a82-48e6-e79c-5304e9d58394"
      },
      "outputs": [
        {
          "output_type": "stream",
          "name": "stdout",
          "text": [
            "Mounted at /gdrive\n"
          ]
        }
      ],
      "source": [
        "from google.colab import drive\n",
        "drive.mount('/gdrive')\n",
        "!cp \"/gdrive/My Drive/CodeCarbon/datasets/NEweather.csv\" /content\n",
        "!cp \"/gdrive/My Drive/CodeCarbon/datasets/agr_a_20k.csv\" /content"
      ]
    },
    {
      "cell_type": "code",
      "execution_count": null,
      "metadata": {
        "colab": {
          "base_uri": "https://localhost:8080/"
        },
        "id": "m8CjjL_OR9G4",
        "outputId": "b32f84fc-126f-45c1-dd0c-4f7506296e68"
      },
      "outputs": [
        {
          "output_type": "stream",
          "name": "stdout",
          "text": [
            "Collecting river==0.7\n",
            "  Downloading river-0.7.0.tar.gz (845 kB)\n",
            "\u001b[?25l     \u001b[90m━━━━━━━━━━━━━━━━━━━━━━━━━━━━━━━━━━━━━━━━\u001b[0m \u001b[32m0.0/846.0 kB\u001b[0m \u001b[31m?\u001b[0m eta \u001b[36m-:--:--\u001b[0m\r\u001b[2K     \u001b[91m━━━━━━━━━━━━━━━━━━━━━━━━━━━━━━━━━━━━━\u001b[0m\u001b[91m╸\u001b[0m \u001b[32m839.7/846.0 kB\u001b[0m \u001b[31m25.5 MB/s\u001b[0m eta \u001b[36m0:00:01\u001b[0m\r\u001b[2K     \u001b[90m━━━━━━━━━━━━━━━━━━━━━━━━━━━━━━━━━━━━━━\u001b[0m \u001b[32m846.0/846.0 kB\u001b[0m \u001b[31m19.0 MB/s\u001b[0m eta \u001b[36m0:00:00\u001b[0m\n",
            "\u001b[?25h  Preparing metadata (setup.py) ... \u001b[?25l\u001b[?25hdone\n",
            "Requirement already satisfied: numpy>=1.18.1 in /usr/local/lib/python3.10/dist-packages (from river==0.7) (1.22.4)\n",
            "Requirement already satisfied: scipy>=1.4.1 in /usr/local/lib/python3.10/dist-packages (from river==0.7) (1.10.1)\n",
            "Requirement already satisfied: pandas>=1.0.1 in /usr/local/lib/python3.10/dist-packages (from river==0.7) (1.5.3)\n",
            "Requirement already satisfied: python-dateutil>=2.8.1 in /usr/local/lib/python3.10/dist-packages (from pandas>=1.0.1->river==0.7) (2.8.2)\n",
            "Requirement already satisfied: pytz>=2020.1 in /usr/local/lib/python3.10/dist-packages (from pandas>=1.0.1->river==0.7) (2022.7.1)\n",
            "Requirement already satisfied: six>=1.5 in /usr/local/lib/python3.10/dist-packages (from python-dateutil>=2.8.1->pandas>=1.0.1->river==0.7) (1.16.0)\n",
            "Building wheels for collected packages: river\n",
            "  Building wheel for river (setup.py) ... \u001b[?25l\u001b[?25hdone\n",
            "  Created wheel for river: filename=river-0.7.0-cp310-cp310-linux_x86_64.whl size=2359732 sha256=e4758c1d4cdd2354485978c2211df7558b2d1b4c60359f8909f6718fd4834963\n",
            "  Stored in directory: /root/.cache/pip/wheels/71/e9/7e/105173d51ebb5262f6f2dc4f6a5003ec86365255e8fd989733\n",
            "Successfully built river\n",
            "Installing collected packages: river\n",
            "Successfully installed river-0.7.0\n"
          ]
        }
      ],
      "source": [
        "!pip install river==0.7"
      ]
    },
    {
      "cell_type": "code",
      "execution_count": null,
      "metadata": {
        "colab": {
          "base_uri": "https://localhost:8080/"
        },
        "id": "0isJQFqySX9c",
        "outputId": "24a39ed6-9a9f-4129-896a-eb72d23f3c37"
      },
      "outputs": [
        {
          "output_type": "stream",
          "name": "stdout",
          "text": [
            "Collecting codecarbon\n",
            "  Downloading codecarbon-2.2.4-py3-none-any.whl (176 kB)\n",
            "\u001b[?25l     \u001b[90m━━━━━━━━━━━━━━━━━━━━━━━━━━━━━━━━━━━━━━━━\u001b[0m \u001b[32m0.0/176.0 kB\u001b[0m \u001b[31m?\u001b[0m eta \u001b[36m-:--:--\u001b[0m\r\u001b[2K     \u001b[90m━━━━━━━━━━━━━━━━━━━━━━━━━━━━━━━━━━━━━━━\u001b[0m \u001b[32m176.0/176.0 kB\u001b[0m \u001b[31m6.3 MB/s\u001b[0m eta \u001b[36m0:00:00\u001b[0m\n",
            "\u001b[?25hCollecting arrow (from codecarbon)\n",
            "  Downloading arrow-1.2.3-py3-none-any.whl (66 kB)\n",
            "\u001b[?25l     \u001b[90m━━━━━━━━━━━━━━━━━━━━━━━━━━━━━━━━━━━━━━━━\u001b[0m \u001b[32m0.0/66.4 kB\u001b[0m \u001b[31m?\u001b[0m eta \u001b[36m-:--:--\u001b[0m\r\u001b[2K     \u001b[90m━━━━━━━━━━━━━━━━━━━━━━━━━━━━━━━━━━━━━━━━\u001b[0m \u001b[32m66.4/66.4 kB\u001b[0m \u001b[31m7.1 MB/s\u001b[0m eta \u001b[36m0:00:00\u001b[0m\n",
            "\u001b[?25hRequirement already satisfied: pandas in /usr/local/lib/python3.10/dist-packages (from codecarbon) (1.5.3)\n",
            "Collecting pynvml (from codecarbon)\n",
            "  Downloading pynvml-11.5.0-py3-none-any.whl (53 kB)\n",
            "\u001b[2K     \u001b[90m━━━━━━━━━━━━━━━━━━━━━━━━━━━━━━━━━━━━━━━━\u001b[0m \u001b[32m53.1/53.1 kB\u001b[0m \u001b[31m7.1 MB/s\u001b[0m eta \u001b[36m0:00:00\u001b[0m\n",
            "\u001b[?25hRequirement already satisfied: requests in /usr/local/lib/python3.10/dist-packages (from codecarbon) (2.27.1)\n",
            "Requirement already satisfied: psutil in /usr/local/lib/python3.10/dist-packages (from codecarbon) (5.9.5)\n",
            "Requirement already satisfied: py-cpuinfo in /usr/local/lib/python3.10/dist-packages (from codecarbon) (9.0.0)\n",
            "Collecting fuzzywuzzy (from codecarbon)\n",
            "  Downloading fuzzywuzzy-0.18.0-py2.py3-none-any.whl (18 kB)\n",
            "Requirement already satisfied: click in /usr/local/lib/python3.10/dist-packages (from codecarbon) (8.1.3)\n",
            "Requirement already satisfied: python-dateutil>=2.7.0 in /usr/local/lib/python3.10/dist-packages (from arrow->codecarbon) (2.8.2)\n",
            "Requirement already satisfied: pytz>=2020.1 in /usr/local/lib/python3.10/dist-packages (from pandas->codecarbon) (2022.7.1)\n",
            "Requirement already satisfied: numpy>=1.21.0 in /usr/local/lib/python3.10/dist-packages (from pandas->codecarbon) (1.22.4)\n",
            "Requirement already satisfied: urllib3<1.27,>=1.21.1 in /usr/local/lib/python3.10/dist-packages (from requests->codecarbon) (1.26.16)\n",
            "Requirement already satisfied: certifi>=2017.4.17 in /usr/local/lib/python3.10/dist-packages (from requests->codecarbon) (2023.5.7)\n",
            "Requirement already satisfied: charset-normalizer~=2.0.0 in /usr/local/lib/python3.10/dist-packages (from requests->codecarbon) (2.0.12)\n",
            "Requirement already satisfied: idna<4,>=2.5 in /usr/local/lib/python3.10/dist-packages (from requests->codecarbon) (3.4)\n",
            "Requirement already satisfied: six>=1.5 in /usr/local/lib/python3.10/dist-packages (from python-dateutil>=2.7.0->arrow->codecarbon) (1.16.0)\n",
            "Installing collected packages: fuzzywuzzy, pynvml, arrow, codecarbon\n",
            "Successfully installed arrow-1.2.3 codecarbon-2.2.4 fuzzywuzzy-0.18.0 pynvml-11.5.0\n"
          ]
        }
      ],
      "source": [
        "!pip install codecarbon"
      ]
    },
    {
      "cell_type": "code",
      "execution_count": null,
      "metadata": {
        "id": "19XCLNSPPSv9"
      },
      "outputs": [],
      "source": [
        "import pandas as pd\n",
        "from river.stream import iter_pandas\n",
        "from river.metrics import Metrics,Accuracy,BalancedAccuracy,CohenKappa,GeometricMean\n",
        "from river.evaluate import progressive_val_score\n",
        "from codecarbon import EmissionsTracker"
      ]
    },
    {
      "cell_type": "code",
      "execution_count": null,
      "metadata": {
        "id": "3oL5htmgPSv_"
      },
      "outputs": [],
      "source": [
        "data = pd.read_csv(\"NEweather.csv\")\n",
        "features = data.columns[:-1]"
      ]
    },
    {
      "cell_type": "markdown",
      "metadata": {
        "id": "_id228JzPSwA"
      },
      "source": [
        "## Online Bagging\n",
        "\n",
        "---\n",
        "[Online Bagging](https://riverml.xyz/latest/api/ensemble/BaggingClassifier/) is an Online bootstrap aggregation for classification."
      ]
    },
    {
      "cell_type": "code",
      "execution_count": null,
      "metadata": {
        "colab": {
          "base_uri": "https://localhost:8080/"
        },
        "id": "nywWXMFKPSwB",
        "scrolled": true,
        "outputId": "bebb7d4b-e0c9-4759-9f6d-8f3103515bff"
      },
      "outputs": [
        {
          "output_type": "stream",
          "name": "stderr",
          "text": [
            "[codecarbon INFO @ 20:21:55] [setup] RAM Tracking...\n",
            "[codecarbon INFO @ 20:21:55] [setup] GPU Tracking...\n",
            "[codecarbon INFO @ 20:21:55] Tracking Nvidia GPU via pynvml\n",
            "[codecarbon INFO @ 20:21:55] [setup] CPU Tracking...\n",
            "[codecarbon WARNING @ 20:21:55] No CPU tracking mode found. Falling back on CPU constant mode.\n",
            "[codecarbon WARNING @ 20:21:57] We saw that you have a Intel(R) Xeon(R) CPU @ 2.20GHz but we don't know it. Please contact us.\n",
            "[codecarbon INFO @ 20:21:57] CPU Model on constant consumption mode: Intel(R) Xeon(R) CPU @ 2.20GHz\n",
            "[codecarbon INFO @ 20:21:57] >>> Tracker's metadata:\n",
            "[codecarbon INFO @ 20:21:57]   Platform system: Linux-5.15.107+-x86_64-with-glibc2.31\n",
            "[codecarbon INFO @ 20:21:57]   Python version: 3.10.12\n",
            "[codecarbon INFO @ 20:21:57]   CodeCarbon version: 2.2.4\n",
            "[codecarbon INFO @ 20:21:57]   Available RAM : 12.678 GB\n",
            "[codecarbon INFO @ 20:21:57]   CPU count: 2\n",
            "[codecarbon INFO @ 20:21:57]   CPU model: Intel(R) Xeon(R) CPU @ 2.20GHz\n",
            "[codecarbon INFO @ 20:21:57]   GPU count: 1\n",
            "[codecarbon INFO @ 20:21:57]   GPU model: 1 x Tesla T4\n"
          ]
        },
        {
          "output_type": "stream",
          "name": "stdout",
          "text": [
            "[1,000] Accuracy: 71.17%\n",
            "[2,000] Accuracy: 70.09%\n",
            "[3,000] Accuracy: 70.89%\n",
            "[4,000] Accuracy: 71.42%\n",
            "[5,000] Accuracy: 72.07%\n",
            "[6,000] Accuracy: 72.51%\n"
          ]
        },
        {
          "output_type": "stream",
          "name": "stderr",
          "text": [
            "[codecarbon INFO @ 20:22:12] Energy consumed for RAM : 0.000020 kWh. RAM Power : 4.754399299621582 W\n",
            "[codecarbon INFO @ 20:22:12] Energy consumed for all GPUs : 0.000041 kWh. Total GPU Power : 9.662 W\n",
            "[codecarbon INFO @ 20:22:12] Energy consumed for all CPUs : 0.000180 kWh. Total CPU Power : 42.5 W\n"
          ]
        },
        {
          "output_type": "stream",
          "name": "stdout",
          "text": [
            "[7,000] Accuracy: 73.38%\n"
          ]
        },
        {
          "output_type": "stream",
          "name": "stderr",
          "text": [
            "[codecarbon INFO @ 20:22:13] 0.000240 kWh of electricity used since the beginning.\n"
          ]
        },
        {
          "output_type": "stream",
          "name": "stdout",
          "text": [
            "[8,000] Accuracy: 73.27%\n",
            "[9,000] Accuracy: 73.36%\n",
            "[10,000] Accuracy: 73.52%\n",
            "[11,000] Accuracy: 73.99%\n",
            "[12,000] Accuracy: 74.22%\n",
            "[13,000] Accuracy: 74.31%\n",
            "[14,000] Accuracy: 74.28%\n",
            "[15,000] Accuracy: 74.54%\n",
            "[16,000] Accuracy: 74.55%\n",
            "[17,000] Accuracy: 74.62%\n"
          ]
        },
        {
          "output_type": "stream",
          "name": "stderr",
          "text": [
            "[codecarbon INFO @ 20:22:28] Energy consumed for RAM : 0.000039 kWh. RAM Power : 4.754399299621582 W\n",
            "[codecarbon INFO @ 20:22:28] Energy consumed for all GPUs : 0.000081 kWh. Total GPU Power : 9.86 W\n",
            "[codecarbon INFO @ 20:22:28] Energy consumed for all CPUs : 0.000354 kWh. Total CPU Power : 42.5 W\n",
            "[codecarbon INFO @ 20:22:28] 0.000475 kWh of electricity used since the beginning.\n"
          ]
        },
        {
          "output_type": "stream",
          "name": "stdout",
          "text": [
            "[18,000] Accuracy: 74.38%\n"
          ]
        },
        {
          "output_type": "stream",
          "name": "stderr",
          "text": [
            "[codecarbon INFO @ 20:22:29] Energy consumed for RAM : 0.000042 kWh. RAM Power : 4.754399299621582 W\n",
            "[codecarbon INFO @ 20:22:29] Energy consumed for all GPUs : 0.000086 kWh. Total GPU Power : 9.86 W\n",
            "[codecarbon INFO @ 20:22:29] Energy consumed for all CPUs : 0.000374 kWh. Total CPU Power : 42.5 W\n",
            "[codecarbon INFO @ 20:22:29] 0.000502 kWh of electricity used since the beginning.\n"
          ]
        },
        {
          "output_type": "execute_result",
          "data": {
            "text/plain": [
              "6.960797401530874e-05"
            ]
          },
          "metadata": {},
          "execution_count": 6
        }
      ],
      "source": [
        "from river.ensemble import BaggingClassifier\n",
        "from river.tree import HoeffdingTreeClassifier\n",
        "\n",
        "tracker = EmissionsTracker()\n",
        "tracker.start()\n",
        "\n",
        "model = BaggingClassifier(model=HoeffdingTreeClassifier(),\n",
        "                          n_models=10,\n",
        "                          seed=42)\n",
        "metrics = Metrics(metrics=[Accuracy()])\n",
        "stream = iter_pandas(X=data[features], y=data['rain'])\n",
        "\n",
        "progressive_val_score(dataset=stream,\n",
        "                      model=model,\n",
        "                      metric=metrics,\n",
        "                      print_every=1000)\n",
        "\n",
        "tracker.stop()"
      ]
    },
    {
      "cell_type": "markdown",
      "metadata": {
        "id": "HeFGWU0aPSwC"
      },
      "source": [
        "## Leveraging Bagging\n",
        "---\n",
        "\n",
        "[Leveraging Bagging](https://riverml.xyz/latest/api/ensemble/LeveragingBaggingClassifier/) is an improvement over the Oza Bagging algorithm. The bagging performance is leveraged by increasing the re-sampling. It uses a poisson distribution to simulate the re-sampling process. To increase re-sampling it uses a higher w value of the Poisson distribution (agerage number of events), 6 by default, increasing the input space diversity, by attributing a different range of weights to the data samples.\n",
        "\n",
        "To deal with concept drift, Leveraging Bagging uses the ADWIN algorithm to monitor the performance of each member of the enemble If concept drift is detected, the worst member of the ensemble (based on the error estimation by ADWIN) is replaced by a new (empty) classifier."
      ]
    },
    {
      "cell_type": "code",
      "execution_count": null,
      "metadata": {
        "colab": {
          "base_uri": "https://localhost:8080/"
        },
        "id": "7QGG-n37PSwD",
        "outputId": "c2ad95e0-fa79-4b61-9f80-2e3154383c4c"
      },
      "outputs": [
        {
          "output_type": "stream",
          "name": "stderr",
          "text": [
            "[codecarbon INFO @ 20:22:29] [setup] RAM Tracking...\n",
            "[codecarbon INFO @ 20:22:29] [setup] GPU Tracking...\n",
            "[codecarbon INFO @ 20:22:29] Tracking Nvidia GPU via pynvml\n",
            "[codecarbon INFO @ 20:22:29] [setup] CPU Tracking...\n",
            "[codecarbon WARNING @ 20:22:29] No CPU tracking mode found. Falling back on CPU constant mode.\n",
            "[codecarbon WARNING @ 20:22:31] We saw that you have a Intel(R) Xeon(R) CPU @ 2.20GHz but we don't know it. Please contact us.\n",
            "[codecarbon INFO @ 20:22:31] CPU Model on constant consumption mode: Intel(R) Xeon(R) CPU @ 2.20GHz\n",
            "[codecarbon INFO @ 20:22:31] >>> Tracker's metadata:\n",
            "[codecarbon INFO @ 20:22:31]   Platform system: Linux-5.15.107+-x86_64-with-glibc2.31\n",
            "[codecarbon INFO @ 20:22:31]   Python version: 3.10.12\n",
            "[codecarbon INFO @ 20:22:31]   CodeCarbon version: 2.2.4\n",
            "[codecarbon INFO @ 20:22:31]   Available RAM : 12.678 GB\n",
            "[codecarbon INFO @ 20:22:31]   CPU count: 2\n",
            "[codecarbon INFO @ 20:22:31]   CPU model: Intel(R) Xeon(R) CPU @ 2.20GHz\n",
            "[codecarbon INFO @ 20:22:31]   GPU count: 1\n",
            "[codecarbon INFO @ 20:22:31]   GPU model: 1 x Tesla T4\n"
          ]
        },
        {
          "output_type": "stream",
          "name": "stdout",
          "text": [
            "[1,000] Accuracy: 75.78%\n",
            "[2,000] Accuracy: 76.64%\n"
          ]
        },
        {
          "output_type": "stream",
          "name": "stderr",
          "text": [
            "[codecarbon INFO @ 20:22:46] Energy consumed for RAM : 0.000020 kWh. RAM Power : 4.754399299621582 W\n",
            "[codecarbon INFO @ 20:22:46] Energy consumed for all GPUs : 0.000040 kWh. Total GPU Power : 9.662 W\n",
            "[codecarbon INFO @ 20:22:47] Energy consumed for all CPUs : 0.000180 kWh. Total CPU Power : 42.5 W\n",
            "[codecarbon INFO @ 20:22:47] 0.000240 kWh of electricity used since the beginning.\n"
          ]
        },
        {
          "output_type": "stream",
          "name": "stdout",
          "text": [
            "[3,000] Accuracy: 77.79%\n",
            "[4,000] Accuracy: 77.79%\n"
          ]
        },
        {
          "output_type": "stream",
          "name": "stderr",
          "text": [
            "[codecarbon INFO @ 20:23:01] Energy consumed for RAM : 0.000039 kWh. RAM Power : 4.754399299621582 W\n",
            "[codecarbon INFO @ 20:23:01] Energy consumed for all GPUs : 0.000080 kWh. Total GPU Power : 9.562 W\n",
            "[codecarbon INFO @ 20:23:01] Energy consumed for all CPUs : 0.000356 kWh. Total CPU Power : 42.5 W\n",
            "[codecarbon INFO @ 20:23:01] 0.000475 kWh of electricity used since the beginning.\n"
          ]
        },
        {
          "output_type": "stream",
          "name": "stdout",
          "text": [
            "[5,000] Accuracy: 77.70%\n",
            "[6,000] Accuracy: 77.80%\n",
            "[7,000] Accuracy: 78.18%\n"
          ]
        },
        {
          "output_type": "stream",
          "name": "stderr",
          "text": [
            "[codecarbon INFO @ 20:23:16] Energy consumed for RAM : 0.000059 kWh. RAM Power : 4.754399299621582 W\n",
            "[codecarbon INFO @ 20:23:16] Energy consumed for all GPUs : 0.000119 kWh. Total GPU Power : 9.562 W\n",
            "[codecarbon INFO @ 20:23:16] Energy consumed for all CPUs : 0.000532 kWh. Total CPU Power : 42.5 W\n",
            "[codecarbon INFO @ 20:23:16] 0.000711 kWh of electricity used since the beginning.\n"
          ]
        },
        {
          "output_type": "stream",
          "name": "stdout",
          "text": [
            "[8,000] Accuracy: 77.80%\n",
            "[9,000] Accuracy: 77.65%\n"
          ]
        },
        {
          "output_type": "stream",
          "name": "stderr",
          "text": [
            "[codecarbon INFO @ 20:23:31] Energy consumed for RAM : 0.000079 kWh. RAM Power : 4.754399299621582 W\n",
            "[codecarbon INFO @ 20:23:32] Energy consumed for all GPUs : 0.000159 kWh. Total GPU Power : 9.562 W\n",
            "[codecarbon INFO @ 20:23:32] Energy consumed for all CPUs : 0.000712 kWh. Total CPU Power : 42.5 W\n",
            "[codecarbon INFO @ 20:23:32] 0.000950 kWh of electricity used since the beginning.\n"
          ]
        },
        {
          "output_type": "stream",
          "name": "stdout",
          "text": [
            "[10,000] Accuracy: 77.85%\n",
            "[11,000] Accuracy: 78.11%\n"
          ]
        },
        {
          "output_type": "stream",
          "name": "stderr",
          "text": [
            "[codecarbon INFO @ 20:23:46] Energy consumed for RAM : 0.000098 kWh. RAM Power : 4.754399299621582 W\n",
            "[codecarbon INFO @ 20:23:46] Energy consumed for all GPUs : 0.000198 kWh. Total GPU Power : 9.562 W\n",
            "[codecarbon INFO @ 20:23:47] Energy consumed for all CPUs : 0.000886 kWh. Total CPU Power : 42.5 W\n",
            "[codecarbon INFO @ 20:23:47] 0.001182 kWh of electricity used since the beginning.\n"
          ]
        },
        {
          "output_type": "stream",
          "name": "stdout",
          "text": [
            "[12,000] Accuracy: 78.21%\n",
            "[13,000] Accuracy: 78.37%\n"
          ]
        },
        {
          "output_type": "stream",
          "name": "stderr",
          "text": [
            "[codecarbon INFO @ 20:24:01] Energy consumed for RAM : 0.000118 kWh. RAM Power : 4.754399299621582 W\n",
            "[codecarbon INFO @ 20:24:02] Energy consumed for all GPUs : 0.000238 kWh. Total GPU Power : 9.562 W\n",
            "[codecarbon INFO @ 20:24:02] Energy consumed for all CPUs : 0.001064 kWh. Total CPU Power : 42.5 W\n",
            "[codecarbon INFO @ 20:24:02] 0.001419 kWh of electricity used since the beginning.\n"
          ]
        },
        {
          "output_type": "stream",
          "name": "stdout",
          "text": [
            "[14,000] Accuracy: 78.16%\n",
            "[15,000] Accuracy: 78.26%\n",
            "[16,000] Accuracy: 78.27%\n"
          ]
        },
        {
          "output_type": "stream",
          "name": "stderr",
          "text": [
            "[codecarbon INFO @ 20:24:16] Energy consumed for RAM : 0.000137 kWh. RAM Power : 4.754399299621582 W\n",
            "[codecarbon INFO @ 20:24:16] Energy consumed for all GPUs : 0.000278 kWh. Total GPU Power : 9.761000000000001 W\n",
            "[codecarbon INFO @ 20:24:17] Energy consumed for all CPUs : 0.001239 kWh. Total CPU Power : 42.5 W\n",
            "[codecarbon INFO @ 20:24:17] 0.001654 kWh of electricity used since the beginning.\n"
          ]
        },
        {
          "output_type": "stream",
          "name": "stdout",
          "text": [
            "[17,000] Accuracy: 78.26%\n",
            "[18,000] Accuracy: 78.03%\n"
          ]
        },
        {
          "output_type": "stream",
          "name": "stderr",
          "text": [
            "[codecarbon INFO @ 20:24:30] Energy consumed for RAM : 0.000155 kWh. RAM Power : 4.754399299621582 W\n",
            "[codecarbon INFO @ 20:24:30] Energy consumed for all GPUs : 0.000314 kWh. Total GPU Power : 9.463000000000001 W\n",
            "[codecarbon INFO @ 20:24:30] Energy consumed for all CPUs : 0.001400 kWh. Total CPU Power : 42.5 W\n",
            "[codecarbon INFO @ 20:24:30] 0.001869 kWh of electricity used since the beginning.\n"
          ]
        },
        {
          "output_type": "execute_result",
          "data": {
            "text/plain": [
              "0.0002593154528424729"
            ]
          },
          "metadata": {},
          "execution_count": 7
        }
      ],
      "source": [
        "from river.ensemble import LeveragingBaggingClassifier\n",
        "from river.tree import HoeffdingTreeClassifier\n",
        "\n",
        "tracker = EmissionsTracker()\n",
        "tracker.start()\n",
        "\n",
        "model = LeveragingBaggingClassifier(model=HoeffdingTreeClassifier(),\n",
        "                          n_models=10,\n",
        "                          seed=42)\n",
        "metrics = Metrics(metrics=[Accuracy()])\n",
        "stream = iter_pandas(X=data[features], y=data['rain'])\n",
        "\n",
        "progressive_val_score(dataset=stream,\n",
        "                      model=model,\n",
        "                      metric=metrics,\n",
        "                      print_every=1000)\n",
        "\n",
        "tracker.stop()"
      ]
    },
    {
      "cell_type": "markdown",
      "metadata": {
        "id": "WLRLpJskPSwF"
      },
      "source": [
        "## AdaptiveRandomForest\n",
        "---\n",
        "\n",
        "\n",
        "\n",
        "The 3 most important aspects of [ARF](https://riverml.xyz/latest/api/ensemble/AdaptiveRandomForestClassifier/) are:\n",
        "- inducing diversity through re-sampling\n",
        "- inducing diversity through randomly selecting subsets of features for node splits\n",
        "- drift detectors per base tree, which cause selective resets in response to drifts\n",
        "\n",
        "It also allows training background trees, which start training if a warning is detected and replace the active tree if the warning escalates to a drift."
      ]
    },
    {
      "cell_type": "code",
      "execution_count": null,
      "metadata": {
        "colab": {
          "base_uri": "https://localhost:8080/"
        },
        "id": "G5Q6tFGSPSwF",
        "outputId": "92cedf7d-c637-4d7b-bf59-80ac4abb9835"
      },
      "outputs": [
        {
          "output_type": "stream",
          "name": "stderr",
          "text": [
            "[codecarbon INFO @ 20:24:30] [setup] RAM Tracking...\n",
            "[codecarbon INFO @ 20:24:30] [setup] GPU Tracking...\n",
            "[codecarbon INFO @ 20:24:30] Tracking Nvidia GPU via pynvml\n",
            "[codecarbon INFO @ 20:24:30] [setup] CPU Tracking...\n",
            "[codecarbon WARNING @ 20:24:30] No CPU tracking mode found. Falling back on CPU constant mode.\n",
            "[codecarbon WARNING @ 20:24:32] We saw that you have a Intel(R) Xeon(R) CPU @ 2.20GHz but we don't know it. Please contact us.\n",
            "[codecarbon INFO @ 20:24:32] CPU Model on constant consumption mode: Intel(R) Xeon(R) CPU @ 2.20GHz\n",
            "[codecarbon INFO @ 20:24:32] >>> Tracker's metadata:\n",
            "[codecarbon INFO @ 20:24:32]   Platform system: Linux-5.15.107+-x86_64-with-glibc2.31\n",
            "[codecarbon INFO @ 20:24:32]   Python version: 3.10.12\n",
            "[codecarbon INFO @ 20:24:32]   CodeCarbon version: 2.2.4\n",
            "[codecarbon INFO @ 20:24:32]   Available RAM : 12.678 GB\n",
            "[codecarbon INFO @ 20:24:32]   CPU count: 2\n",
            "[codecarbon INFO @ 20:24:32]   CPU model: Intel(R) Xeon(R) CPU @ 2.20GHz\n",
            "[codecarbon INFO @ 20:24:32]   GPU count: 1\n",
            "[codecarbon INFO @ 20:24:32]   GPU model: 1 x Tesla T4\n"
          ]
        },
        {
          "output_type": "stream",
          "name": "stdout",
          "text": [
            "[1,000] Accuracy: 73.37%\n",
            "[2,000] Accuracy: 76.09%\n",
            "[3,000] Accuracy: 77.36%\n",
            "[4,000] Accuracy: 77.22%\n"
          ]
        },
        {
          "output_type": "stream",
          "name": "stderr",
          "text": [
            "[codecarbon INFO @ 20:24:48] Energy consumed for RAM : 0.000020 kWh. RAM Power : 4.754399299621582 W\n",
            "[codecarbon INFO @ 20:24:48] Energy consumed for all GPUs : 0.000043 kWh. Total GPU Power : 9.761000000000001 W\n",
            "[codecarbon INFO @ 20:24:48] Energy consumed for all CPUs : 0.000194 kWh. Total CPU Power : 42.5 W\n",
            "[codecarbon INFO @ 20:24:48] 0.000257 kWh of electricity used since the beginning.\n"
          ]
        },
        {
          "output_type": "stream",
          "name": "stdout",
          "text": [
            "[5,000] Accuracy: 77.36%\n",
            "[6,000] Accuracy: 77.38%\n",
            "[7,000] Accuracy: 77.95%\n",
            "[8,000] Accuracy: 77.75%\n"
          ]
        },
        {
          "output_type": "stream",
          "name": "stderr",
          "text": [
            "[codecarbon INFO @ 20:25:02] Energy consumed for RAM : 0.000039 kWh. RAM Power : 4.754399299621582 W\n",
            "[codecarbon INFO @ 20:25:03] Energy consumed for all GPUs : 0.000079 kWh. Total GPU Power : 9.463000000000001 W\n",
            "[codecarbon INFO @ 20:25:03] Energy consumed for all CPUs : 0.000366 kWh. Total CPU Power : 42.5 W\n",
            "[codecarbon INFO @ 20:25:03] 0.000484 kWh of electricity used since the beginning.\n"
          ]
        },
        {
          "output_type": "stream",
          "name": "stdout",
          "text": [
            "[9,000] Accuracy: 77.74%\n",
            "[10,000] Accuracy: 77.89%\n",
            "[11,000] Accuracy: 78.18%\n"
          ]
        },
        {
          "output_type": "stream",
          "name": "stderr",
          "text": [
            "[codecarbon INFO @ 20:25:17] Energy consumed for RAM : 0.000058 kWh. RAM Power : 4.754399299621582 W\n",
            "[codecarbon INFO @ 20:25:17] Energy consumed for all GPUs : 0.000117 kWh. Total GPU Power : 9.463000000000001 W\n"
          ]
        },
        {
          "output_type": "stream",
          "name": "stdout",
          "text": [
            "[12,000] Accuracy: 78.41%\n"
          ]
        },
        {
          "output_type": "stream",
          "name": "stderr",
          "text": [
            "[codecarbon INFO @ 20:25:18] Energy consumed for all CPUs : 0.000542 kWh. Total CPU Power : 42.5 W\n",
            "[codecarbon INFO @ 20:25:18] 0.000717 kWh of electricity used since the beginning.\n"
          ]
        },
        {
          "output_type": "stream",
          "name": "stdout",
          "text": [
            "[13,000] Accuracy: 78.44%\n",
            "[14,000] Accuracy: 78.25%\n",
            "[15,000] Accuracy: 78.46%\n"
          ]
        },
        {
          "output_type": "stream",
          "name": "stderr",
          "text": [
            "[codecarbon INFO @ 20:25:32] Energy consumed for RAM : 0.000076 kWh. RAM Power : 4.754399299621582 W\n",
            "[codecarbon INFO @ 20:25:32] Energy consumed for all GPUs : 0.000155 kWh. Total GPU Power : 9.463000000000001 W\n",
            "[codecarbon INFO @ 20:25:32] Energy consumed for all CPUs : 0.000712 kWh. Total CPU Power : 42.5 W\n",
            "[codecarbon INFO @ 20:25:32] 0.000944 kWh of electricity used since the beginning.\n"
          ]
        },
        {
          "output_type": "stream",
          "name": "stdout",
          "text": [
            "[16,000] Accuracy: 78.49%\n",
            "[17,000] Accuracy: 78.49%\n",
            "[18,000] Accuracy: 78.16%\n"
          ]
        },
        {
          "output_type": "stream",
          "name": "stderr",
          "text": [
            "[codecarbon INFO @ 20:25:44] Energy consumed for RAM : 0.000092 kWh. RAM Power : 4.754399299621582 W\n",
            "[codecarbon INFO @ 20:25:44] Energy consumed for all GPUs : 0.000187 kWh. Total GPU Power : 9.463000000000001 W\n",
            "[codecarbon INFO @ 20:25:44] Energy consumed for all CPUs : 0.000853 kWh. Total CPU Power : 42.5 W\n",
            "[codecarbon INFO @ 20:25:44] 0.001132 kWh of electricity used since the beginning.\n"
          ]
        },
        {
          "output_type": "execute_result",
          "data": {
            "text/plain": [
              "0.00015704029717714653"
            ]
          },
          "metadata": {},
          "execution_count": 8
        }
      ],
      "source": [
        "from river.ensemble import AdaptiveRandomForestClassifier\n",
        "\n",
        "tracker = EmissionsTracker()\n",
        "tracker.start()\n",
        "\n",
        "model = AdaptiveRandomForestClassifier(n_models=10)\n",
        "metrics = Metrics(metrics=[Accuracy()])\n",
        "stream = iter_pandas(X=data[features], y=data['rain'])\n",
        "\n",
        "progressive_val_score(dataset=stream,\n",
        "                      model=model,\n",
        "                      metric=metrics,\n",
        "                      print_every=1000)\n",
        "\n",
        "tracker.stop()"
      ]
    },
    {
      "cell_type": "markdown",
      "metadata": {
        "id": "4z1hvNslPSwH"
      },
      "source": [
        "## StreamingRandomPatches\n",
        "---\n",
        "[SRP](https://riverml.xyz/latest/api/ensemble/SRPClassifier/) is an ensemble method that simulates bagging or random subspaces. The default algorithm uses both bagging and random subspaces, namely Random Patches. The default base estimator is a Hoeffding Tree, but other base estimators can be used (differently from random forest variations)."
      ]
    },
    {
      "cell_type": "code",
      "execution_count": null,
      "metadata": {
        "colab": {
          "base_uri": "https://localhost:8080/"
        },
        "id": "8fCP7NdEPSwI",
        "outputId": "102e9169-f473-4a1e-a693-faea781b8bbc"
      },
      "outputs": [
        {
          "output_type": "stream",
          "name": "stderr",
          "text": [
            "[codecarbon INFO @ 20:25:44] [setup] RAM Tracking...\n",
            "[codecarbon INFO @ 20:25:44] [setup] GPU Tracking...\n",
            "[codecarbon INFO @ 20:25:44] Tracking Nvidia GPU via pynvml\n",
            "[codecarbon INFO @ 20:25:44] [setup] CPU Tracking...\n",
            "[codecarbon WARNING @ 20:25:44] No CPU tracking mode found. Falling back on CPU constant mode.\n",
            "[codecarbon WARNING @ 20:25:46] We saw that you have a Intel(R) Xeon(R) CPU @ 2.20GHz but we don't know it. Please contact us.\n",
            "[codecarbon INFO @ 20:25:46] CPU Model on constant consumption mode: Intel(R) Xeon(R) CPU @ 2.20GHz\n",
            "[codecarbon INFO @ 20:25:46] >>> Tracker's metadata:\n",
            "[codecarbon INFO @ 20:25:46]   Platform system: Linux-5.15.107+-x86_64-with-glibc2.31\n",
            "[codecarbon INFO @ 20:25:46]   Python version: 3.10.12\n",
            "[codecarbon INFO @ 20:25:46]   CodeCarbon version: 2.2.4\n",
            "[codecarbon INFO @ 20:25:46]   Available RAM : 12.678 GB\n",
            "[codecarbon INFO @ 20:25:46]   CPU count: 2\n",
            "[codecarbon INFO @ 20:25:46]   CPU model: Intel(R) Xeon(R) CPU @ 2.20GHz\n",
            "[codecarbon INFO @ 20:25:46]   GPU count: 1\n",
            "[codecarbon INFO @ 20:25:46]   GPU model: 1 x Tesla T4\n"
          ]
        },
        {
          "output_type": "stream",
          "name": "stdout",
          "text": [
            "[1,000] Accuracy: 73.57%\n",
            "[2,000] Accuracy: 76.29%\n"
          ]
        },
        {
          "output_type": "stream",
          "name": "stderr",
          "text": [
            "[codecarbon INFO @ 20:26:01] Energy consumed for RAM : 0.000020 kWh. RAM Power : 4.754399299621582 W\n",
            "[codecarbon INFO @ 20:26:01] Energy consumed for all GPUs : 0.000040 kWh. Total GPU Power : 9.463000000000001 W\n",
            "[codecarbon INFO @ 20:26:02] Energy consumed for all CPUs : 0.000179 kWh. Total CPU Power : 42.5 W\n",
            "[codecarbon INFO @ 20:26:02] 0.000238 kWh of electricity used since the beginning.\n"
          ]
        },
        {
          "output_type": "stream",
          "name": "stdout",
          "text": [
            "[3,000] Accuracy: 77.79%\n",
            "[4,000] Accuracy: 78.12%\n"
          ]
        },
        {
          "output_type": "stream",
          "name": "stderr",
          "text": [
            "[codecarbon INFO @ 20:26:16] Energy consumed for RAM : 0.000040 kWh. RAM Power : 4.754399299621582 W\n",
            "[codecarbon INFO @ 20:26:16] Energy consumed for all GPUs : 0.000079 kWh. Total GPU Power : 9.463000000000001 W\n",
            "[codecarbon INFO @ 20:26:16] Energy consumed for all CPUs : 0.000355 kWh. Total CPU Power : 42.5 W\n",
            "[codecarbon INFO @ 20:26:17] 0.000473 kWh of electricity used since the beginning.\n"
          ]
        },
        {
          "output_type": "stream",
          "name": "stdout",
          "text": [
            "[5,000] Accuracy: 78.08%\n",
            "[6,000] Accuracy: 77.98%\n"
          ]
        },
        {
          "output_type": "stream",
          "name": "stderr",
          "text": [
            "[codecarbon INFO @ 20:26:31] Energy consumed for RAM : 0.000059 kWh. RAM Power : 4.754399299621582 W\n",
            "[codecarbon INFO @ 20:26:32] Energy consumed for all GPUs : 0.000118 kWh. Total GPU Power : 9.463000000000001 W\n",
            "[codecarbon INFO @ 20:26:32] Energy consumed for all CPUs : 0.000531 kWh. Total CPU Power : 42.5 W\n",
            "[codecarbon INFO @ 20:26:32] 0.000708 kWh of electricity used since the beginning.\n"
          ]
        },
        {
          "output_type": "stream",
          "name": "stdout",
          "text": [
            "[7,000] Accuracy: 78.45%\n",
            "[8,000] Accuracy: 78.15%\n"
          ]
        },
        {
          "output_type": "stream",
          "name": "stderr",
          "text": [
            "[codecarbon INFO @ 20:26:47] Energy consumed for RAM : 0.000079 kWh. RAM Power : 4.754399299621582 W\n",
            "[codecarbon INFO @ 20:26:47] Energy consumed for all GPUs : 0.000159 kWh. Total GPU Power : 9.86 W\n",
            "[codecarbon INFO @ 20:26:48] Energy consumed for all CPUs : 0.000721 kWh. Total CPU Power : 42.5 W\n",
            "[codecarbon INFO @ 20:26:48] 0.000959 kWh of electricity used since the beginning.\n"
          ]
        },
        {
          "output_type": "stream",
          "name": "stdout",
          "text": [
            "[9,000] Accuracy: 78.18%\n",
            "[10,000] Accuracy: 78.36%\n"
          ]
        },
        {
          "output_type": "stream",
          "name": "stderr",
          "text": [
            "[codecarbon INFO @ 20:27:04] Energy consumed for RAM : 0.000098 kWh. RAM Power : 4.754399299621582 W\n",
            "[codecarbon INFO @ 20:27:04] Energy consumed for all GPUs : 0.000201 kWh. Total GPU Power : 9.562 W\n",
            "[codecarbon INFO @ 20:27:04] Energy consumed for all CPUs : 0.000910 kWh. Total CPU Power : 42.5 W\n",
            "[codecarbon INFO @ 20:27:04] 0.001209 kWh of electricity used since the beginning.\n"
          ]
        },
        {
          "output_type": "stream",
          "name": "stdout",
          "text": [
            "[11,000] Accuracy: 78.66%\n",
            "[12,000] Accuracy: 78.78%\n"
          ]
        },
        {
          "output_type": "stream",
          "name": "stderr",
          "text": [
            "[codecarbon INFO @ 20:27:18] Energy consumed for RAM : 0.000116 kWh. RAM Power : 4.754399299621582 W\n",
            "[codecarbon INFO @ 20:27:18] Energy consumed for all GPUs : 0.000236 kWh. Total GPU Power : 9.463000000000001 W\n",
            "[codecarbon INFO @ 20:27:18] Energy consumed for all CPUs : 0.001074 kWh. Total CPU Power : 42.5 W\n",
            "[codecarbon INFO @ 20:27:19] 0.001425 kWh of electricity used since the beginning.\n"
          ]
        },
        {
          "output_type": "stream",
          "name": "stdout",
          "text": [
            "[13,000] Accuracy: 78.81%\n",
            "[14,000] Accuracy: 78.57%\n"
          ]
        },
        {
          "output_type": "stream",
          "name": "stderr",
          "text": [
            "[codecarbon INFO @ 20:27:34] Energy consumed for RAM : 0.000136 kWh. RAM Power : 4.754399299621582 W\n",
            "[codecarbon INFO @ 20:27:34] Energy consumed for all GPUs : 0.000276 kWh. Total GPU Power : 9.463000000000001 W\n",
            "[codecarbon INFO @ 20:27:34] Energy consumed for all CPUs : 0.001258 kWh. Total CPU Power : 42.5 W\n",
            "[codecarbon INFO @ 20:27:35] 0.001669 kWh of electricity used since the beginning.\n"
          ]
        },
        {
          "output_type": "stream",
          "name": "stdout",
          "text": [
            "[15,000] Accuracy: 78.67%\n",
            "[16,000] Accuracy: 78.69%\n"
          ]
        },
        {
          "output_type": "stream",
          "name": "stderr",
          "text": [
            "[codecarbon INFO @ 20:27:50] Energy consumed for RAM : 0.000155 kWh. RAM Power : 4.754399299621582 W\n",
            "[codecarbon INFO @ 20:27:50] Energy consumed for all GPUs : 0.000315 kWh. Total GPU Power : 9.463000000000001 W\n",
            "[codecarbon INFO @ 20:27:50] Energy consumed for all CPUs : 0.001440 kWh. Total CPU Power : 42.5 W\n",
            "[codecarbon INFO @ 20:27:50] 0.001911 kWh of electricity used since the beginning.\n"
          ]
        },
        {
          "output_type": "stream",
          "name": "stdout",
          "text": [
            "[17,000] Accuracy: 78.74%\n",
            "[18,000] Accuracy: 78.53%\n"
          ]
        },
        {
          "output_type": "stream",
          "name": "stderr",
          "text": [
            "[codecarbon INFO @ 20:28:02] Energy consumed for RAM : 0.000171 kWh. RAM Power : 4.754399299621582 W\n",
            "[codecarbon INFO @ 20:28:02] Energy consumed for all GPUs : 0.000346 kWh. Total GPU Power : 9.463000000000001 W\n",
            "[codecarbon INFO @ 20:28:02] Energy consumed for all CPUs : 0.001579 kWh. Total CPU Power : 42.5 W\n",
            "[codecarbon INFO @ 20:28:02] 0.002096 kWh of electricity used since the beginning.\n"
          ]
        },
        {
          "output_type": "execute_result",
          "data": {
            "text/plain": [
              "0.0002908402483661201"
            ]
          },
          "metadata": {},
          "execution_count": 9
        }
      ],
      "source": [
        "from river.ensemble import SRPClassifier\n",
        "from river.tree import HoeffdingTreeClassifier\n",
        "\n",
        "tracker = EmissionsTracker()\n",
        "tracker.start()\n",
        "\n",
        "model = SRPClassifier(model=HoeffdingTreeClassifier(),\n",
        "                      n_models=10,\n",
        "                      seed=42)\n",
        "metrics = Metrics(metrics=[Accuracy()])\n",
        "stream = iter_pandas(X=data[features], y=data['rain'])\n",
        "\n",
        "progressive_val_score(dataset=stream,\n",
        "                      model=model,\n",
        "                      metric=metrics,\n",
        "                      print_every=1000)\n",
        "\n",
        "tracker.stop()"
      ]
    },
    {
      "cell_type": "markdown",
      "metadata": {
        "id": "1oCFGLECPSwJ"
      },
      "source": [
        "## Concept Drift Impact\n",
        "\n",
        "Concept drift can negatively impact learning methods if not properly handled. Multiple real-world applications suffer **model degradation** as the models can not adapt to changes in the data.\n",
        "\n",
        "---\n",
        "## `AGRAWAL` dataset\n",
        "\n",
        "We will load the data from a csv file. The data was generated using the `AGRAWAL` data generator with 3 **gradual drifts** at the 5k, 10k, and 15k marks. It contains 9 features, 6 numeric and 3 categorical.\n",
        "\n",
        "There are 10 functions for generating binary class labels from the features. These functions determine whether a **loan** should be approved.\n",
        "\n",
        "| Feature    | Description            | Values                                                                |\n",
        "|------------|------------------------|-----------------------------------------------------------------------|\n",
        "| `salary`     | salary                 | uniformly distributed from 20k to 150k                                |\n",
        "| `commission` | commission             | if (salary <   75k) then 0 else uniformly distributed from 10k to 75k |\n",
        "| `age`        | age                    | uniformly distributed from 20 to 80                                   |\n",
        "| `elevel`     | education level        | uniformly chosen from 0 to 4                                          |\n",
        "| `car`        | car maker              | uniformly chosen from 1 to 20                                         |\n",
        "| `zipcode`    | zip code of the town   | uniformly chosen from 0 to 8                                          |\n",
        "| `hvalue`     | value of the house     | uniformly distributed from 50k x zipcode to 100k x zipcode            |\n",
        "| `hyears`     | years house owned      | uniformly distributed from 1 to 30                                    |\n",
        "| `loan`       | total loan amount      | uniformly distributed from 0 to 500k                                  |\n",
        "\n",
        "**Class:** `y` | 0: no loan, 1: loan\n",
        "\n",
        "**Samples:** 20,000\n",
        "\n",
        "`elevel`, `car`, and `zipcode` are categorical features."
      ]
    },
    {
      "cell_type": "code",
      "execution_count": null,
      "metadata": {
        "id": "eO3eZxbxPSwK"
      },
      "outputs": [],
      "source": [
        "data = pd.read_csv(\"agr_a_20k.csv\")\n",
        "features = data.columns[:-1]"
      ]
    },
    {
      "cell_type": "markdown",
      "metadata": {
        "id": "UGkpVpXYPSwK"
      },
      "source": [
        "## ADWIN Online Bagging\n",
        "\n",
        "---\n",
        "[ADWIN Online Bagging](https://riverml.xyz/latest/api/ensemble/ADWINBaggingClassifier/) is the online bagging method with the addition of the ADWIN algorithm as a change detector. If concept drift is detected, the worst member of the ensemble (based on the error estimation by ADWIN) is replaced by a new (empty) classifier."
      ]
    },
    {
      "cell_type": "code",
      "execution_count": null,
      "metadata": {
        "colab": {
          "base_uri": "https://localhost:8080/"
        },
        "id": "h9cP__LFPSwL",
        "outputId": "88f1f81d-4233-4246-9e2e-debbce1e66fd"
      },
      "outputs": [
        {
          "output_type": "stream",
          "name": "stderr",
          "text": [
            "[codecarbon INFO @ 20:28:02] [setup] RAM Tracking...\n",
            "[codecarbon INFO @ 20:28:02] [setup] GPU Tracking...\n",
            "[codecarbon INFO @ 20:28:02] Tracking Nvidia GPU via pynvml\n",
            "[codecarbon INFO @ 20:28:02] [setup] CPU Tracking...\n",
            "[codecarbon WARNING @ 20:28:02] No CPU tracking mode found. Falling back on CPU constant mode.\n",
            "[codecarbon WARNING @ 20:28:04] We saw that you have a Intel(R) Xeon(R) CPU @ 2.20GHz but we don't know it. Please contact us.\n",
            "[codecarbon INFO @ 20:28:04] CPU Model on constant consumption mode: Intel(R) Xeon(R) CPU @ 2.20GHz\n",
            "[codecarbon INFO @ 20:28:04] >>> Tracker's metadata:\n",
            "[codecarbon INFO @ 20:28:04]   Platform system: Linux-5.15.107+-x86_64-with-glibc2.31\n",
            "[codecarbon INFO @ 20:28:04]   Python version: 3.10.12\n",
            "[codecarbon INFO @ 20:28:04]   CodeCarbon version: 2.2.4\n",
            "[codecarbon INFO @ 20:28:04]   Available RAM : 12.678 GB\n",
            "[codecarbon INFO @ 20:28:04]   CPU count: 2\n",
            "[codecarbon INFO @ 20:28:04]   CPU model: Intel(R) Xeon(R) CPU @ 2.20GHz\n",
            "[codecarbon INFO @ 20:28:04]   GPU count: 1\n",
            "[codecarbon INFO @ 20:28:04]   GPU model: 1 x Tesla T4\n"
          ]
        },
        {
          "output_type": "stream",
          "name": "stdout",
          "text": [
            "[1,000] Accuracy: 80.18%\n",
            "[2,000] Accuracy: 84.04%\n",
            "[3,000] Accuracy: 85.46%\n",
            "[4,000] Accuracy: 86.70%\n",
            "[5,000] Accuracy: 87.62%\n",
            "[6,000] Accuracy: 82.60%\n",
            "[7,000] Accuracy: 80.57%\n"
          ]
        },
        {
          "output_type": "stream",
          "name": "stderr",
          "text": [
            "[codecarbon INFO @ 20:28:19] Energy consumed for RAM : 0.000020 kWh. RAM Power : 4.754399299621582 W\n",
            "[codecarbon INFO @ 20:28:19] Energy consumed for all GPUs : 0.000039 kWh. Total GPU Power : 9.364 W\n"
          ]
        },
        {
          "output_type": "stream",
          "name": "stdout",
          "text": [
            "[8,000] Accuracy: 79.58%\n"
          ]
        },
        {
          "output_type": "stream",
          "name": "stderr",
          "text": [
            "[codecarbon INFO @ 20:28:19] Energy consumed for all CPUs : 0.000183 kWh. Total CPU Power : 42.5 W\n",
            "[codecarbon INFO @ 20:28:20] 0.000242 kWh of electricity used since the beginning.\n"
          ]
        },
        {
          "output_type": "stream",
          "name": "stdout",
          "text": [
            "[9,000] Accuracy: 78.46%\n",
            "[10,000] Accuracy: 77.31%\n",
            "[11,000] Accuracy: 75.75%\n",
            "[12,000] Accuracy: 75.73%\n",
            "[13,000] Accuracy: 76.04%\n",
            "[14,000] Accuracy: 76.79%\n",
            "[15,000] Accuracy: 77.53%\n"
          ]
        },
        {
          "output_type": "stream",
          "name": "stderr",
          "text": [
            "[codecarbon INFO @ 20:28:34] Energy consumed for RAM : 0.000039 kWh. RAM Power : 4.754399299621582 W\n",
            "[codecarbon INFO @ 20:28:35] Energy consumed for all GPUs : 0.000077 kWh. Total GPU Power : 9.463000000000001 W\n",
            "[codecarbon INFO @ 20:28:35] Energy consumed for all CPUs : 0.000360 kWh. Total CPU Power : 42.5 W\n",
            "[codecarbon INFO @ 20:28:35] 0.000476 kWh of electricity used since the beginning.\n"
          ]
        },
        {
          "output_type": "stream",
          "name": "stdout",
          "text": [
            "[16,000] Accuracy: 76.69%\n",
            "[17,000] Accuracy: 76.31%\n",
            "[18,000] Accuracy: 76.25%\n",
            "[19,000] Accuracy: 76.00%\n"
          ]
        },
        {
          "output_type": "stream",
          "name": "stderr",
          "text": [
            "[codecarbon INFO @ 20:28:44] Energy consumed for RAM : 0.000051 kWh. RAM Power : 4.754399299621582 W\n",
            "[codecarbon INFO @ 20:28:44] Energy consumed for all GPUs : 0.000101 kWh. Total GPU Power : 9.562 W\n",
            "[codecarbon INFO @ 20:28:44] Energy consumed for all CPUs : 0.000466 kWh. Total CPU Power : 42.5 W\n",
            "[codecarbon INFO @ 20:28:44] 0.000618 kWh of electricity used since the beginning.\n"
          ]
        },
        {
          "output_type": "stream",
          "name": "stdout",
          "text": [
            "[20,000] Accuracy: 75.77%\n"
          ]
        },
        {
          "output_type": "execute_result",
          "data": {
            "text/plain": [
              "8.576070118618925e-05"
            ]
          },
          "metadata": {},
          "execution_count": 11
        }
      ],
      "source": [
        "from river.ensemble import ADWINBaggingClassifier\n",
        "from river.tree import HoeffdingTreeClassifier\n",
        "\n",
        "tracker = EmissionsTracker()\n",
        "tracker.start()\n",
        "\n",
        "model = ADWINBaggingClassifier(model=HoeffdingTreeClassifier(nominal_attributes=['elevel', 'car', 'zipcode']),\n",
        "                          n_models=10,\n",
        "                          seed=42)\n",
        "metrics = Metrics(metrics=[Accuracy()])\n",
        "stream = iter_pandas(X=data[features], y=data['class'])\n",
        "\n",
        "progressive_val_score(dataset=stream,\n",
        "                      model=model,\n",
        "                      metric=metrics,\n",
        "                      print_every=1000)\n",
        "\n",
        "tracker.stop()"
      ]
    },
    {
      "cell_type": "markdown",
      "metadata": {
        "id": "egMVf6mJPSwL"
      },
      "source": [
        "## Leveraging Bagging"
      ]
    },
    {
      "cell_type": "code",
      "execution_count": null,
      "metadata": {
        "colab": {
          "base_uri": "https://localhost:8080/"
        },
        "id": "KXQEZnKxPSwL",
        "outputId": "530c8af4-a474-41d5-eb2e-1c54943aa4cc"
      },
      "outputs": [
        {
          "output_type": "stream",
          "name": "stderr",
          "text": [
            "[codecarbon INFO @ 20:28:44] [setup] RAM Tracking...\n",
            "[codecarbon INFO @ 20:28:44] [setup] GPU Tracking...\n",
            "[codecarbon INFO @ 20:28:44] Tracking Nvidia GPU via pynvml\n",
            "[codecarbon INFO @ 20:28:44] [setup] CPU Tracking...\n",
            "[codecarbon WARNING @ 20:28:44] No CPU tracking mode found. Falling back on CPU constant mode.\n",
            "[codecarbon WARNING @ 20:28:45] We saw that you have a Intel(R) Xeon(R) CPU @ 2.20GHz but we don't know it. Please contact us.\n",
            "[codecarbon INFO @ 20:28:45] CPU Model on constant consumption mode: Intel(R) Xeon(R) CPU @ 2.20GHz\n",
            "[codecarbon INFO @ 20:28:45] >>> Tracker's metadata:\n",
            "[codecarbon INFO @ 20:28:45]   Platform system: Linux-5.15.107+-x86_64-with-glibc2.31\n",
            "[codecarbon INFO @ 20:28:45]   Python version: 3.10.12\n",
            "[codecarbon INFO @ 20:28:45]   CodeCarbon version: 2.2.4\n",
            "[codecarbon INFO @ 20:28:45]   Available RAM : 12.678 GB\n",
            "[codecarbon INFO @ 20:28:45]   CPU count: 2\n",
            "[codecarbon INFO @ 20:28:45]   CPU model: Intel(R) Xeon(R) CPU @ 2.20GHz\n",
            "[codecarbon INFO @ 20:28:45]   GPU count: 1\n",
            "[codecarbon INFO @ 20:28:45]   GPU model: 1 x Tesla T4\n"
          ]
        },
        {
          "output_type": "stream",
          "name": "stdout",
          "text": [
            "[1,000] Accuracy: 75.48%\n",
            "[2,000] Accuracy: 79.34%\n"
          ]
        },
        {
          "output_type": "stream",
          "name": "stderr",
          "text": [
            "[codecarbon INFO @ 20:29:00] Energy consumed for RAM : 0.000020 kWh. RAM Power : 4.754399299621582 W\n",
            "[codecarbon INFO @ 20:29:01] Energy consumed for all GPUs : 0.000041 kWh. Total GPU Power : 9.761000000000001 W\n",
            "[codecarbon INFO @ 20:29:01] Energy consumed for all CPUs : 0.000180 kWh. Total CPU Power : 42.5 W\n",
            "[codecarbon INFO @ 20:29:01] 0.000241 kWh of electricity used since the beginning.\n"
          ]
        },
        {
          "output_type": "stream",
          "name": "stdout",
          "text": [
            "[3,000] Accuracy: 81.83%\n",
            "[4,000] Accuracy: 83.45%\n",
            "[5,000] Accuracy: 84.56%\n"
          ]
        },
        {
          "output_type": "stream",
          "name": "stderr",
          "text": [
            "[codecarbon INFO @ 20:29:15] Energy consumed for RAM : 0.000039 kWh. RAM Power : 4.754399299621582 W\n",
            "[codecarbon INFO @ 20:29:15] Energy consumed for all GPUs : 0.000083 kWh. Total GPU Power : 10.158000000000001 W\n",
            "[codecarbon INFO @ 20:29:16] Energy consumed for all CPUs : 0.000356 kWh. Total CPU Power : 42.5 W\n",
            "[codecarbon INFO @ 20:29:16] 0.000478 kWh of electricity used since the beginning.\n"
          ]
        },
        {
          "output_type": "stream",
          "name": "stdout",
          "text": [
            "[6,000] Accuracy: 80.01%\n",
            "[7,000] Accuracy: 77.38%\n"
          ]
        },
        {
          "output_type": "stream",
          "name": "stderr",
          "text": [
            "[codecarbon INFO @ 20:29:30] Energy consumed for RAM : 0.000059 kWh. RAM Power : 4.754399299621582 W\n",
            "[codecarbon INFO @ 20:29:31] Energy consumed for all GPUs : 0.000126 kWh. Total GPU Power : 10.456 W\n",
            "[codecarbon INFO @ 20:29:31] Energy consumed for all CPUs : 0.000534 kWh. Total CPU Power : 42.5 W\n",
            "[codecarbon INFO @ 20:29:31] 0.000718 kWh of electricity used since the beginning.\n"
          ]
        },
        {
          "output_type": "stream",
          "name": "stdout",
          "text": [
            "[8,000] Accuracy: 75.73%\n",
            "[9,000] Accuracy: 74.85%\n"
          ]
        },
        {
          "output_type": "stream",
          "name": "stderr",
          "text": [
            "[codecarbon INFO @ 20:29:45] Energy consumed for RAM : 0.000078 kWh. RAM Power : 4.754399299621582 W\n",
            "[codecarbon INFO @ 20:29:45] Energy consumed for all GPUs : 0.000165 kWh. Total GPU Power : 9.662 W\n",
            "[codecarbon INFO @ 20:29:46] Energy consumed for all CPUs : 0.000710 kWh. Total CPU Power : 42.5 W\n",
            "[codecarbon INFO @ 20:29:46] 0.000953 kWh of electricity used since the beginning.\n"
          ]
        },
        {
          "output_type": "stream",
          "name": "stdout",
          "text": [
            "[10,000] Accuracy: 73.91%\n",
            "[11,000] Accuracy: 72.83%\n",
            "[12,000] Accuracy: 73.64%\n"
          ]
        },
        {
          "output_type": "stream",
          "name": "stderr",
          "text": [
            "[codecarbon INFO @ 20:30:00] Energy consumed for RAM : 0.000098 kWh. RAM Power : 4.754399299621582 W\n",
            "[codecarbon INFO @ 20:30:00] Energy consumed for all GPUs : 0.000204 kWh. Total GPU Power : 9.463000000000001 W\n",
            "[codecarbon INFO @ 20:30:00] Energy consumed for all CPUs : 0.000885 kWh. Total CPU Power : 42.5 W\n",
            "[codecarbon INFO @ 20:30:00] 0.001187 kWh of electricity used since the beginning.\n"
          ]
        },
        {
          "output_type": "stream",
          "name": "stdout",
          "text": [
            "[13,000] Accuracy: 74.33%\n",
            "[14,000] Accuracy: 75.36%\n"
          ]
        },
        {
          "output_type": "stream",
          "name": "stderr",
          "text": [
            "[codecarbon INFO @ 20:30:15] Energy consumed for RAM : 0.000118 kWh. RAM Power : 4.754399299621582 W\n",
            "[codecarbon INFO @ 20:30:15] Energy consumed for all GPUs : 0.000243 kWh. Total GPU Power : 9.364 W\n",
            "[codecarbon INFO @ 20:30:15] Energy consumed for all CPUs : 0.001062 kWh. Total CPU Power : 42.5 W\n",
            "[codecarbon INFO @ 20:30:15] 0.001423 kWh of electricity used since the beginning.\n"
          ]
        },
        {
          "output_type": "stream",
          "name": "stdout",
          "text": [
            "[15,000] Accuracy: 76.33%\n",
            "[16,000] Accuracy: 75.35%\n"
          ]
        },
        {
          "output_type": "stream",
          "name": "stderr",
          "text": [
            "[codecarbon INFO @ 20:30:30] Energy consumed for RAM : 0.000137 kWh. RAM Power : 4.754399299621582 W\n",
            "[codecarbon INFO @ 20:30:30] Energy consumed for all GPUs : 0.000282 kWh. Total GPU Power : 9.364 W\n",
            "[codecarbon INFO @ 20:30:30] Energy consumed for all CPUs : 0.001239 kWh. Total CPU Power : 42.5 W\n",
            "[codecarbon INFO @ 20:30:30] 0.001659 kWh of electricity used since the beginning.\n"
          ]
        },
        {
          "output_type": "stream",
          "name": "stdout",
          "text": [
            "[17,000] Accuracy: 74.92%\n",
            "[18,000] Accuracy: 74.64%\n"
          ]
        },
        {
          "output_type": "stream",
          "name": "stderr",
          "text": [
            "[codecarbon INFO @ 20:30:45] Energy consumed for RAM : 0.000157 kWh. RAM Power : 4.754399299621582 W\n",
            "[codecarbon INFO @ 20:30:45] Energy consumed for all GPUs : 0.000322 kWh. Total GPU Power : 9.463000000000001 W\n",
            "[codecarbon INFO @ 20:30:46] Energy consumed for all CPUs : 0.001416 kWh. Total CPU Power : 42.5 W\n",
            "[codecarbon INFO @ 20:30:46] 0.001895 kWh of electricity used since the beginning.\n"
          ]
        },
        {
          "output_type": "stream",
          "name": "stdout",
          "text": [
            "[19,000] Accuracy: 74.52%\n"
          ]
        },
        {
          "output_type": "stream",
          "name": "stderr",
          "text": [
            "[codecarbon INFO @ 20:30:52] Energy consumed for RAM : 0.000166 kWh. RAM Power : 4.754399299621582 W\n",
            "[codecarbon INFO @ 20:30:52] Energy consumed for all GPUs : 0.000338 kWh. Total GPU Power : 9.364 W\n",
            "[codecarbon INFO @ 20:30:52] Energy consumed for all CPUs : 0.001492 kWh. Total CPU Power : 42.5 W\n",
            "[codecarbon INFO @ 20:30:52] 0.001996 kWh of electricity used since the beginning.\n"
          ]
        },
        {
          "output_type": "stream",
          "name": "stdout",
          "text": [
            "[20,000] Accuracy: 74.23%\n"
          ]
        },
        {
          "output_type": "execute_result",
          "data": {
            "text/plain": [
              "0.00027691706811611524"
            ]
          },
          "metadata": {},
          "execution_count": 12
        }
      ],
      "source": [
        "from river.ensemble import LeveragingBaggingClassifier\n",
        "from river.tree import HoeffdingTreeClassifier\n",
        "\n",
        "tracker = EmissionsTracker()\n",
        "tracker.start()\n",
        "\n",
        "model = LeveragingBaggingClassifier(model=HoeffdingTreeClassifier(nominal_attributes=['elevel', 'car', 'zipcode']),\n",
        "                          n_models=10,\n",
        "                          seed=42)\n",
        "metrics = Metrics(metrics=[Accuracy()])\n",
        "stream = iter_pandas(X=data[features], y=data['class'])\n",
        "\n",
        "progressive_val_score(dataset=stream,\n",
        "                      model=model,\n",
        "                      metric=metrics,\n",
        "                      print_every=1000)\n",
        "\n",
        "tracker.stop()"
      ]
    },
    {
      "cell_type": "markdown",
      "metadata": {
        "id": "Nqfb7zgmPSwM"
      },
      "source": [
        "## AdaptiveRandomForest"
      ]
    },
    {
      "cell_type": "code",
      "execution_count": null,
      "metadata": {
        "colab": {
          "base_uri": "https://localhost:8080/"
        },
        "id": "PaDDWEVaPSwO",
        "outputId": "af41823c-8447-4b37-a234-8a807fdddb4b"
      },
      "outputs": [
        {
          "output_type": "stream",
          "name": "stderr",
          "text": [
            "[codecarbon INFO @ 20:30:52] [setup] RAM Tracking...\n",
            "[codecarbon INFO @ 20:30:52] [setup] GPU Tracking...\n",
            "[codecarbon INFO @ 20:30:52] Tracking Nvidia GPU via pynvml\n",
            "[codecarbon INFO @ 20:30:52] [setup] CPU Tracking...\n",
            "[codecarbon WARNING @ 20:30:52] No CPU tracking mode found. Falling back on CPU constant mode.\n",
            "[codecarbon WARNING @ 20:30:53] We saw that you have a Intel(R) Xeon(R) CPU @ 2.20GHz but we don't know it. Please contact us.\n",
            "[codecarbon INFO @ 20:30:53] CPU Model on constant consumption mode: Intel(R) Xeon(R) CPU @ 2.20GHz\n",
            "[codecarbon INFO @ 20:30:53] >>> Tracker's metadata:\n",
            "[codecarbon INFO @ 20:30:53]   Platform system: Linux-5.15.107+-x86_64-with-glibc2.31\n",
            "[codecarbon INFO @ 20:30:53]   Python version: 3.10.12\n",
            "[codecarbon INFO @ 20:30:53]   CodeCarbon version: 2.2.4\n",
            "[codecarbon INFO @ 20:30:53]   Available RAM : 12.678 GB\n",
            "[codecarbon INFO @ 20:30:53]   CPU count: 2\n",
            "[codecarbon INFO @ 20:30:53]   CPU model: Intel(R) Xeon(R) CPU @ 2.20GHz\n",
            "[codecarbon INFO @ 20:30:53]   GPU count: 1\n",
            "[codecarbon INFO @ 20:30:53]   GPU model: 1 x Tesla T4\n"
          ]
        },
        {
          "output_type": "stream",
          "name": "stdout",
          "text": [
            "[1,000] Accuracy: 68.37%\n",
            "[2,000] Accuracy: 70.14%\n",
            "[3,000] Accuracy: 71.46%\n",
            "[4,000] Accuracy: 72.69%\n"
          ]
        },
        {
          "output_type": "stream",
          "name": "stderr",
          "text": [
            "[codecarbon INFO @ 20:31:09] Energy consumed for RAM : 0.000020 kWh. RAM Power : 4.754399299621582 W\n",
            "[codecarbon INFO @ 20:31:09] Energy consumed for all GPUs : 0.000040 kWh. Total GPU Power : 9.463000000000001 W\n",
            "[codecarbon INFO @ 20:31:09] Energy consumed for all CPUs : 0.000185 kWh. Total CPU Power : 42.5 W\n",
            "[codecarbon INFO @ 20:31:09] 0.000244 kWh of electricity used since the beginning.\n"
          ]
        },
        {
          "output_type": "stream",
          "name": "stdout",
          "text": [
            "[5,000] Accuracy: 73.25%\n",
            "[6,000] Accuracy: 69.56%\n",
            "[7,000] Accuracy: 68.50%\n",
            "[8,000] Accuracy: 67.18%\n"
          ]
        },
        {
          "output_type": "stream",
          "name": "stderr",
          "text": [
            "[codecarbon INFO @ 20:31:24] Energy consumed for RAM : 0.000039 kWh. RAM Power : 4.754399299621582 W\n",
            "[codecarbon INFO @ 20:31:24] Energy consumed for all GPUs : 0.000078 kWh. Total GPU Power : 9.364 W\n",
            "[codecarbon INFO @ 20:31:24] Energy consumed for all CPUs : 0.000362 kWh. Total CPU Power : 42.5 W\n",
            "[codecarbon INFO @ 20:31:24] 0.000478 kWh of electricity used since the beginning.\n"
          ]
        },
        {
          "output_type": "stream",
          "name": "stdout",
          "text": [
            "[9,000] Accuracy: 66.61%\n",
            "[10,000] Accuracy: 65.94%\n",
            "[11,000] Accuracy: 64.18%\n",
            "[12,000] Accuracy: 63.81%\n"
          ]
        },
        {
          "output_type": "stream",
          "name": "stderr",
          "text": [
            "[codecarbon INFO @ 20:31:39] Energy consumed for RAM : 0.000058 kWh. RAM Power : 4.754399299621582 W\n",
            "[codecarbon INFO @ 20:31:39] Energy consumed for all GPUs : 0.000115 kWh. Total GPU Power : 9.364 W\n",
            "[codecarbon INFO @ 20:31:39] Energy consumed for all CPUs : 0.000532 kWh. Total CPU Power : 42.5 W\n",
            "[codecarbon INFO @ 20:31:39] 0.000705 kWh of electricity used since the beginning.\n"
          ]
        },
        {
          "output_type": "stream",
          "name": "stdout",
          "text": [
            "[13,000] Accuracy: 64.52%\n",
            "[14,000] Accuracy: 65.45%\n",
            "[15,000] Accuracy: 66.39%\n",
            "[16,000] Accuracy: 65.44%\n"
          ]
        },
        {
          "output_type": "stream",
          "name": "stderr",
          "text": [
            "[codecarbon INFO @ 20:31:54] Energy consumed for RAM : 0.000078 kWh. RAM Power : 4.754399299621582 W\n",
            "[codecarbon INFO @ 20:31:54] Energy consumed for all GPUs : 0.000154 kWh. Total GPU Power : 9.364 W\n",
            "[codecarbon INFO @ 20:31:54] Energy consumed for all CPUs : 0.000709 kWh. Total CPU Power : 42.5 W\n",
            "[codecarbon INFO @ 20:31:54] 0.000941 kWh of electricity used since the beginning.\n"
          ]
        },
        {
          "output_type": "stream",
          "name": "stdout",
          "text": [
            "[17,000] Accuracy: 65.50%\n",
            "[18,000] Accuracy: 65.88%\n",
            "[19,000] Accuracy: 66.25%\n"
          ]
        },
        {
          "output_type": "stream",
          "name": "stderr",
          "text": [
            "[codecarbon INFO @ 20:32:09] Energy consumed for RAM : 0.000097 kWh. RAM Power : 4.754399299621582 W\n",
            "[codecarbon INFO @ 20:32:09] Energy consumed for all GPUs : 0.000194 kWh. Total GPU Power : 9.562 W\n",
            "[codecarbon INFO @ 20:32:09] Energy consumed for all CPUs : 0.000886 kWh. Total CPU Power : 42.5 W\n",
            "[codecarbon INFO @ 20:32:09] 0.001177 kWh of electricity used since the beginning.\n",
            "[codecarbon INFO @ 20:32:10] Energy consumed for RAM : 0.000099 kWh. RAM Power : 4.754399299621582 W\n",
            "[codecarbon INFO @ 20:32:10] Energy consumed for all GPUs : 0.000196 kWh. Total GPU Power : 9.662 W\n",
            "[codecarbon INFO @ 20:32:10] Energy consumed for all CPUs : 0.000897 kWh. Total CPU Power : 42.5 W\n",
            "[codecarbon INFO @ 20:32:10] 0.001191 kWh of electricity used since the beginning.\n"
          ]
        },
        {
          "output_type": "stream",
          "name": "stdout",
          "text": [
            "[20,000] Accuracy: 66.56%\n"
          ]
        },
        {
          "output_type": "execute_result",
          "data": {
            "text/plain": [
              "0.00016528594823228071"
            ]
          },
          "metadata": {},
          "execution_count": 13
        }
      ],
      "source": [
        "from river.ensemble import AdaptiveRandomForestClassifier\n",
        "\n",
        "tracker = EmissionsTracker()\n",
        "tracker.start()\n",
        "\n",
        "model = AdaptiveRandomForestClassifier(n_models=10,nominal_attributes=['elevel', 'car', 'zipcode'])\n",
        "metrics = Metrics(metrics=[Accuracy()])\n",
        "stream = iter_pandas(X=data[features], y=data['class'])\n",
        "\n",
        "progressive_val_score(dataset=stream,\n",
        "                      model=model,\n",
        "                      metric=metrics,\n",
        "                      print_every=1000)\n",
        "\n",
        "tracker.stop()"
      ]
    },
    {
      "cell_type": "markdown",
      "metadata": {
        "id": "ixY5qJ0oPSwO"
      },
      "source": [
        "## StreamingRandomPatches\n",
        "---\n",
        "We set the drift and warning detection options"
      ]
    },
    {
      "cell_type": "code",
      "execution_count": null,
      "metadata": {
        "colab": {
          "base_uri": "https://localhost:8080/"
        },
        "id": "xHNtAt8UPSwP",
        "outputId": "a6f75871-be8f-4b6c-82d7-4e19ed638dc6"
      },
      "outputs": [
        {
          "output_type": "stream",
          "name": "stderr",
          "text": [
            "[codecarbon INFO @ 20:32:10] [setup] RAM Tracking...\n",
            "[codecarbon INFO @ 20:32:10] [setup] GPU Tracking...\n",
            "[codecarbon INFO @ 20:32:10] Tracking Nvidia GPU via pynvml\n",
            "[codecarbon INFO @ 20:32:10] [setup] CPU Tracking...\n",
            "[codecarbon WARNING @ 20:32:10] No CPU tracking mode found. Falling back on CPU constant mode.\n",
            "[codecarbon WARNING @ 20:32:11] We saw that you have a Intel(R) Xeon(R) CPU @ 2.20GHz but we don't know it. Please contact us.\n",
            "[codecarbon INFO @ 20:32:11] CPU Model on constant consumption mode: Intel(R) Xeon(R) CPU @ 2.20GHz\n",
            "[codecarbon INFO @ 20:32:11] >>> Tracker's metadata:\n",
            "[codecarbon INFO @ 20:32:11]   Platform system: Linux-5.15.107+-x86_64-with-glibc2.31\n",
            "[codecarbon INFO @ 20:32:11]   Python version: 3.10.12\n",
            "[codecarbon INFO @ 20:32:11]   CodeCarbon version: 2.2.4\n",
            "[codecarbon INFO @ 20:32:11]   Available RAM : 12.678 GB\n",
            "[codecarbon INFO @ 20:32:11]   CPU count: 2\n",
            "[codecarbon INFO @ 20:32:11]   CPU model: Intel(R) Xeon(R) CPU @ 2.20GHz\n",
            "[codecarbon INFO @ 20:32:11]   GPU count: 1\n",
            "[codecarbon INFO @ 20:32:11]   GPU model: 1 x Tesla T4\n"
          ]
        },
        {
          "output_type": "stream",
          "name": "stdout",
          "text": [
            "[1,000] Accuracy: 90.59%\n",
            "[2,000] Accuracy: 92.35%\n"
          ]
        },
        {
          "output_type": "stream",
          "name": "stderr",
          "text": [
            "[codecarbon INFO @ 20:32:28] Energy consumed for RAM : 0.000021 kWh. RAM Power : 4.754399299621582 W\n"
          ]
        },
        {
          "output_type": "stream",
          "name": "stdout",
          "text": [
            "[3,000] Accuracy: 92.90%\n"
          ]
        },
        {
          "output_type": "stream",
          "name": "stderr",
          "text": [
            "[codecarbon INFO @ 20:32:29] Energy consumed for all GPUs : 0.000044 kWh. Total GPU Power : 9.562 W\n",
            "[codecarbon INFO @ 20:32:29] Energy consumed for all CPUs : 0.000212 kWh. Total CPU Power : 42.5 W\n",
            "[codecarbon INFO @ 20:32:29] 0.000278 kWh of electricity used since the beginning.\n"
          ]
        },
        {
          "output_type": "stream",
          "name": "stdout",
          "text": [
            "[4,000] Accuracy: 93.17%\n",
            "[5,000] Accuracy: 93.34%\n"
          ]
        },
        {
          "output_type": "stream",
          "name": "stderr",
          "text": [
            "[codecarbon INFO @ 20:32:43] Energy consumed for RAM : 0.000039 kWh. RAM Power : 4.754399299621582 W\n",
            "[codecarbon INFO @ 20:32:46] Energy consumed for all GPUs : 0.000083 kWh. Total GPU Power : 9.662 W\n"
          ]
        },
        {
          "output_type": "stream",
          "name": "stdout",
          "text": [
            "[6,000] Accuracy: 87.96%\n"
          ]
        },
        {
          "output_type": "stream",
          "name": "stderr",
          "text": [
            "[codecarbon INFO @ 20:32:47] Energy consumed for all CPUs : 0.000416 kWh. Total CPU Power : 42.5 W\n",
            "[codecarbon INFO @ 20:32:47] 0.000538 kWh of electricity used since the beginning.\n"
          ]
        },
        {
          "output_type": "stream",
          "name": "stdout",
          "text": [
            "[7,000] Accuracy: 84.54%\n",
            "[8,000] Accuracy: 82.45%\n"
          ]
        },
        {
          "output_type": "stream",
          "name": "stderr",
          "text": [
            "[codecarbon INFO @ 20:32:58] Energy consumed for RAM : 0.000053 kWh. RAM Power : 4.754399299621582 W\n",
            "[codecarbon INFO @ 20:32:59] Energy consumed for all GPUs : 0.000112 kWh. Total GPU Power : 9.463000000000001 W\n",
            "[codecarbon INFO @ 20:32:59] Energy consumed for all CPUs : 0.000550 kWh. Total CPU Power : 42.5 W\n",
            "[codecarbon INFO @ 20:33:00] 0.000715 kWh of electricity used since the beginning.\n"
          ]
        },
        {
          "output_type": "stream",
          "name": "stdout",
          "text": [
            "[9,000] Accuracy: 81.08%\n",
            "[10,000] Accuracy: 79.79%\n"
          ]
        },
        {
          "output_type": "stream",
          "name": "stderr",
          "text": [
            "[codecarbon INFO @ 20:33:14] Energy consumed for RAM : 0.000071 kWh. RAM Power : 4.754399299621582 W\n",
            "[codecarbon INFO @ 20:33:14] Energy consumed for all GPUs : 0.000148 kWh. Total GPU Power : 9.463000000000001 W\n",
            "[codecarbon INFO @ 20:33:15] Energy consumed for all CPUs : 0.000720 kWh. Total CPU Power : 42.5 W\n",
            "[codecarbon INFO @ 20:33:15] 0.000939 kWh of electricity used since the beginning.\n"
          ]
        },
        {
          "output_type": "stream",
          "name": "stdout",
          "text": [
            "[11,000] Accuracy: 78.73%\n",
            "[12,000] Accuracy: 79.63%\n",
            "[13,000] Accuracy: 80.60%\n"
          ]
        },
        {
          "output_type": "stream",
          "name": "stderr",
          "text": [
            "[codecarbon INFO @ 20:33:29] Energy consumed for RAM : 0.000090 kWh. RAM Power : 4.754399299621582 W\n",
            "[codecarbon INFO @ 20:33:29] Energy consumed for all GPUs : 0.000187 kWh. Total GPU Power : 9.463000000000001 W\n",
            "[codecarbon INFO @ 20:33:29] Energy consumed for all CPUs : 0.000894 kWh. Total CPU Power : 42.5 W\n",
            "[codecarbon INFO @ 20:33:29] 0.001170 kWh of electricity used since the beginning.\n"
          ]
        },
        {
          "output_type": "stream",
          "name": "stdout",
          "text": [
            "[14,000] Accuracy: 81.63%\n",
            "[15,000] Accuracy: 82.46%\n"
          ]
        },
        {
          "output_type": "stream",
          "name": "stderr",
          "text": [
            "[codecarbon INFO @ 20:33:46] Energy consumed for RAM : 0.000111 kWh. RAM Power : 4.754399299621582 W\n",
            "[codecarbon INFO @ 20:33:46] Energy consumed for all GPUs : 0.000229 kWh. Total GPU Power : 9.463000000000001 W\n",
            "[codecarbon INFO @ 20:33:46] Energy consumed for all CPUs : 0.001085 kWh. Total CPU Power : 42.5 W\n",
            "[codecarbon INFO @ 20:33:47] 0.001425 kWh of electricity used since the beginning.\n"
          ]
        },
        {
          "output_type": "stream",
          "name": "stdout",
          "text": [
            "[16,000] Accuracy: 81.58%\n",
            "[17,000] Accuracy: 81.38%\n",
            "[18,000] Accuracy: 81.05%\n"
          ]
        },
        {
          "output_type": "stream",
          "name": "stderr",
          "text": [
            "[codecarbon INFO @ 20:34:01] Energy consumed for RAM : 0.000129 kWh. RAM Power : 4.754399299621582 W\n",
            "[codecarbon INFO @ 20:34:01] Energy consumed for all GPUs : 0.000265 kWh. Total GPU Power : 9.463000000000001 W\n",
            "[codecarbon INFO @ 20:34:01] Energy consumed for all CPUs : 0.001253 kWh. Total CPU Power : 42.5 W\n",
            "[codecarbon INFO @ 20:34:01] 0.001647 kWh of electricity used since the beginning.\n"
          ]
        },
        {
          "output_type": "stream",
          "name": "stdout",
          "text": [
            "[19,000] Accuracy: 80.89%\n"
          ]
        },
        {
          "output_type": "stream",
          "name": "stderr",
          "text": [
            "[codecarbon INFO @ 20:34:12] Energy consumed for RAM : 0.000144 kWh. RAM Power : 4.754399299621582 W\n",
            "[codecarbon INFO @ 20:34:12] Energy consumed for all GPUs : 0.000293 kWh. Total GPU Power : 9.463000000000001 W\n",
            "[codecarbon INFO @ 20:34:12] Energy consumed for all CPUs : 0.001380 kWh. Total CPU Power : 42.5 W\n",
            "[codecarbon INFO @ 20:34:12] 0.001817 kWh of electricity used since the beginning.\n"
          ]
        },
        {
          "output_type": "stream",
          "name": "stdout",
          "text": [
            "[20,000] Accuracy: 80.53%\n"
          ]
        },
        {
          "output_type": "execute_result",
          "data": {
            "text/plain": [
              "0.0002521062220249356"
            ]
          },
          "metadata": {},
          "execution_count": 14
        }
      ],
      "source": [
        "from river.ensemble import SRPClassifier\n",
        "from river.tree import HoeffdingTreeClassifier\n",
        "from river.drift import ADWIN\n",
        "\n",
        "tracker = EmissionsTracker()\n",
        "tracker.start()\n",
        "\n",
        "model = SRPClassifier(model=HoeffdingTreeClassifier(nominal_attributes=['elevel', 'car', 'zipcode']),\n",
        "                      n_models=10,\n",
        "                      drift_detector=ADWIN(delta=0.001),\n",
        "                      warning_detector=ADWIN(delta=0.01),\n",
        "                      seed=42)\n",
        "\n",
        "metrics = Metrics(metrics=[Accuracy()])\n",
        "stream = iter_pandas(X=data[features], y=data['class'])\n",
        "\n",
        "progressive_val_score(dataset=stream,\n",
        "                      model=model,\n",
        "                      metric=metrics,\n",
        "                      print_every=1000)\n",
        "\n",
        "tracker.stop()"
      ]
    }
  ],
  "metadata": {
    "colab": {
      "provenance": [],
      "gpuType": "T4",
      "include_colab_link": true
    },
    "kernelspec": {
      "display_name": "Python 3",
      "name": "python3"
    },
    "language_info": {
      "codemirror_mode": {
        "name": "ipython",
        "version": 3
      },
      "file_extension": ".py",
      "mimetype": "text/x-python",
      "name": "python",
      "nbconvert_exporter": "python",
      "pygments_lexer": "ipython3",
      "version": "3.11.0"
    },
    "accelerator": "GPU"
  },
  "nbformat": 4,
  "nbformat_minor": 0
}